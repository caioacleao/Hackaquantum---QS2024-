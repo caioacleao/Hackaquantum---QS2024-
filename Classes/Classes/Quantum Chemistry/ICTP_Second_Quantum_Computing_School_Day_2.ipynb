{
  "cells": [
    {
      "cell_type": "code",
      "execution_count": 1,
      "metadata": {
        "id": "MDjBBO5jecZL"
      },
      "outputs": [
        {
          "name": "stdout",
          "output_type": "stream",
          "text": [
            "Requirement already satisfied: Pennylane in /opt/homebrew/anaconda3/lib/python3.12/site-packages (0.38.0)\n",
            "Requirement already satisfied: numpy<2.0 in /opt/homebrew/anaconda3/lib/python3.12/site-packages (from Pennylane) (1.26.4)\n",
            "Requirement already satisfied: scipy in /opt/homebrew/anaconda3/lib/python3.12/site-packages (from Pennylane) (1.13.1)\n",
            "Requirement already satisfied: networkx in /opt/homebrew/anaconda3/lib/python3.12/site-packages (from Pennylane) (3.2.1)\n",
            "Requirement already satisfied: rustworkx>=0.14.0 in /opt/homebrew/anaconda3/lib/python3.12/site-packages (from Pennylane) (0.15.1)\n",
            "Requirement already satisfied: autograd in /opt/homebrew/anaconda3/lib/python3.12/site-packages (from Pennylane) (1.7.0)\n",
            "Requirement already satisfied: toml in /opt/homebrew/anaconda3/lib/python3.12/site-packages (from Pennylane) (0.10.2)\n",
            "Requirement already satisfied: appdirs in /opt/homebrew/anaconda3/lib/python3.12/site-packages (from Pennylane) (1.4.4)\n",
            "Requirement already satisfied: autoray>=0.6.11 in /opt/homebrew/anaconda3/lib/python3.12/site-packages (from Pennylane) (0.6.12)\n",
            "Requirement already satisfied: cachetools in /opt/homebrew/anaconda3/lib/python3.12/site-packages (from Pennylane) (5.3.3)\n",
            "Requirement already satisfied: pennylane-lightning>=0.38 in /opt/homebrew/anaconda3/lib/python3.12/site-packages (from Pennylane) (0.38.0)\n",
            "Requirement already satisfied: requests in /opt/homebrew/anaconda3/lib/python3.12/site-packages (from Pennylane) (2.32.2)\n",
            "Requirement already satisfied: typing-extensions in /opt/homebrew/anaconda3/lib/python3.12/site-packages (from Pennylane) (4.11.0)\n",
            "Requirement already satisfied: packaging in /opt/homebrew/anaconda3/lib/python3.12/site-packages (from Pennylane) (23.2)\n",
            "Requirement already satisfied: charset-normalizer<4,>=2 in /opt/homebrew/anaconda3/lib/python3.12/site-packages (from requests->Pennylane) (2.0.4)\n",
            "Requirement already satisfied: idna<4,>=2.5 in /opt/homebrew/anaconda3/lib/python3.12/site-packages (from requests->Pennylane) (3.7)\n",
            "Requirement already satisfied: urllib3<3,>=1.21.1 in /opt/homebrew/anaconda3/lib/python3.12/site-packages (from requests->Pennylane) (2.2.2)\n",
            "Requirement already satisfied: certifi>=2017.4.17 in /opt/homebrew/anaconda3/lib/python3.12/site-packages (from requests->Pennylane) (2024.8.30)\n",
            "Requirement already satisfied: PySCF in /opt/homebrew/anaconda3/lib/python3.12/site-packages (2.7.0)\n",
            "Requirement already satisfied: numpy!=1.16,!=1.17,>=1.13 in /opt/homebrew/anaconda3/lib/python3.12/site-packages (from PySCF) (1.26.4)\n",
            "Requirement already satisfied: scipy>=1.6.0 in /opt/homebrew/anaconda3/lib/python3.12/site-packages (from PySCF) (1.13.1)\n",
            "Requirement already satisfied: h5py>=2.7 in /opt/homebrew/anaconda3/lib/python3.12/site-packages (from PySCF) (3.11.0)\n",
            "Requirement already satisfied: setuptools in /opt/homebrew/anaconda3/lib/python3.12/site-packages (from PySCF) (69.5.1)\n"
          ]
        }
      ],
      "source": [
        "# Install PennyLane and PySCF\n",
        "!pip install Pennylane\n",
        "!pip install PySCF"
      ]
    },
    {
      "cell_type": "markdown",
      "metadata": {
        "id": "7TMuHjK3tVUB"
      },
      "source": [
        "### Import your favourite libraries"
      ]
    },
    {
      "cell_type": "code",
      "execution_count": 2,
      "metadata": {
        "id": "bwELQYxWtMIQ"
      },
      "outputs": [],
      "source": [
        "import pennylane as qml\n",
        "from pennylane import numpy as pnp"
      ]
    },
    {
      "cell_type": "markdown",
      "metadata": {
        "id": "ivlMd211pa_D"
      },
      "source": [
        "## Initial state preparation"
      ]
    },
    {
      "cell_type": "markdown",
      "metadata": {
        "id": "sTkOXh9bzFPt"
      },
      "source": [
        "Initial states obtained from affordable post-Hartree-Fock calculations can be used to make the quantum workflow more performant. For instance, configuration interaction (CI) and coupled cluster (CC) calculations with single and double (SD) excitations can be performed using PySCF and the resulting wave function can be used as the initial state in the quantum algorithm. PennyLane provides the `import_state()` function that takes a PySCF object, extracts the wave function and returns a state vector in the computational basis that can be used in a quantum circuit. (Source: [Using PennyLane with PySCF and OpenFermion](https://pennylane.ai/qml/demos/tutorial_qchem_external/))\n",
        "\n",
        "The currently supported methods are configuration interaction with singles and doubles (CISD), coupled cluster (CCSD), density-matrix renormalization group (DMRG) and semistochastic heat-bath configuration interaction (SHCI). These are basically different ways of considering which electrons have an effect on others.\n",
        "\n",
        "We now show how this works on the linear H3+ molecule as an example."
      ]
    },
    {
      "cell_type": "markdown",
      "metadata": {
        "id": "IVQakS-Z0J07"
      },
      "source": [
        "Let’s take this opportunity to create the Hartree-Fock initial state, to compare other states against it later on."
      ]
    },
    {
      "cell_type": "code",
      "execution_count": 3,
      "metadata": {
        "id": "YY0y00rd0KHL"
      },
      "outputs": [],
      "source": [
        "#create the Hartree-Fock initial state, to compare other states against it later on.\n",
        "hf_primer = ([[3, 0, 0]], pnp.array([1.0]))\n",
        "wf_hf = qml.qchem.import_state(hf_primer)"
      ]
    },
    {
      "cell_type": "markdown",
      "metadata": {
        "id": "9J6_qniS2JJT"
      },
      "source": [
        "### CISD states\n",
        "\n",
        "CISD stands for configuration interaction singles and doubles. The first line of attack for initial state preparation is often a CISD calculation, performed with the PySCF library. CISD is unsophisticated, but it is fast. It will not be of much help for strongly correlated molecules, but it is better than Hartree-Fock. CISD includes only those configurations that differ from the Hartree–Fock determinant by at most two occupied spinorbitals. Here is the code example:"
      ]
    },
    {
      "cell_type": "code",
      "execution_count": 4,
      "metadata": {
        "collapsed": true,
        "id": "LI-1AjzBc2BV"
      },
      "outputs": [
        {
          "name": "stdout",
          "output_type": "stream",
          "text": [
            "converged SCF energy = -1.13616963888333\n",
            "E(RCISD) = -1.182690605466229  E_corr = -0.0465209665828972\n"
          ]
        }
      ],
      "source": [
        "import pyscf\n",
        "\n",
        "R = 1.2\n",
        "\n",
        "# Create the H3+ molecule from PySCF\n",
        "mol = pyscf.M(atom = [[\"H\",(0,0,0)],[\"H\",(0,0,R)],[\"H\",(0,0,2*R)]],charge = 1)\n",
        "# Perfrom Hartree-Fock and then CISD\n",
        "myhf = mol.HF.run()\n",
        "myci = myhf.CISD().run()\n",
        "\n",
        "# Import the initial state into PennyLane\n",
        "wf_cisd = qml.qchem.import_state(myci,tol = 1e-1)"
      ]
    },
    {
      "cell_type": "markdown",
      "metadata": {
        "id": "VaHNqLHu1Jtr"
      },
      "source": [
        "### CCSD states\n",
        "CCSD stands for Coupled-cluster with Single and Double excitations.\n",
        "The function `import_state()` is general and works similarly for CCSD. It can automatically detect the input type and apply the appropriate conversion protocol."
      ]
    },
    {
      "cell_type": "code",
      "execution_count": 5,
      "metadata": {
        "collapsed": true,
        "id": "aUEBwtBQ16Yg"
      },
      "outputs": [
        {
          "name": "stdout",
          "output_type": "stream",
          "text": [
            "E(CCSD) = -1.182690605467345  E_corr = -0.04652096658401336\n"
          ]
        },
        {
          "name": "stderr",
          "output_type": "stream",
          "text": [
            "<class 'pyscf.cc.ccsd.CCSD'> does not have attributes  converged\n"
          ]
        }
      ],
      "source": [
        "#Perform CCSD\n",
        "mycc = pyscf.cc.CCSD(myhf).run()\n",
        "# Import the initial state into PennyLane\n",
        "wf_ccsd = qml.qchem.import_state(mycc,tol = 1e-1)\n"
      ]
    },
    {
      "cell_type": "markdown",
      "metadata": {
        "id": "hvOzmvzq3Hgt"
      },
      "source": [
        "### Compare the ground state energy obtained with each initial state prep"
      ]
    },
    {
      "cell_type": "markdown",
      "metadata": {
        "id": "QvlcDOIppnZk"
      },
      "source": [
        "Let us now demonstrate how the choice of a better initial state shortens the runtime of VQE for obtaining the ground-state energy of a molecule. As a first step, create our linear  H3+ molecule, a device, and a simple VQE circuit with single and double excitations:"
      ]
    },
    {
      "cell_type": "code",
      "execution_count": 6,
      "metadata": {
        "id": "zt6AHeHrpoZH"
      },
      "outputs": [
        {
          "name": "stdout",
          "output_type": "stream",
          "text": [
            "[[0, 2], [0, 4], [1, 3], [1, 5], [0, 1, 2, 3], [0, 1, 2, 5], [0, 1, 3, 4], [0, 1, 4, 5]]\n"
          ]
        }
      ],
      "source": [
        "# Generate the molecular Hamiltonian for H3+\n",
        "symbols= [\"H\",\"H\",\"H\"]\n",
        "geometry = pnp.array([[0,0,0],[0,0,R/0.529],[0,0,2*R/0.529]])\n",
        "molecule = qml.qchem.Molecule(symbols,geometry,charge = 1)\n",
        "\n",
        "H3mol,qubits = qml.qchem.molecular_hamiltonian(molecule)\n",
        "wires = list(range(qubits))\n",
        "electrons = 2\n",
        "orbitals = qubits \n",
        "\n",
        "# Create all possible excitations in H3+\n",
        "singles, doubles = qml.qchem.excitations(electrons,orbitals)\n",
        "#combine all the the possible excitations\n",
        "excitations = singles + doubles \n",
        "print(excitations)"
      ]
    },
    {
      "cell_type": "markdown",
      "metadata": {
        "id": "JDnti8ckt7QJ"
      },
      "source": [
        "Now let’s run VQE with the Hartree-Fock initial state. We first build the VQE circuit:"
      ]
    },
    {
      "cell_type": "code",
      "execution_count": 7,
      "metadata": {
        "id": "7f1opNa0t3vh"
      },
      "outputs": [],
      "source": [
        "# run VQE with the Hartree-Fock initial state\n",
        "dev = qml.device(\"default.qubit\",wires = qubits)\n",
        "#Build the VQE circuit:\n",
        "@qml.qnode(dev)\n",
        "def circuit_VQE(theta, initial_state):\n",
        "    qml.StatePrep(initial_state,wires = wires)\n",
        "    #ansatz\n",
        "    for i, excitation in enumerate(excitations):\n",
        "        if len(excitation)==4:\n",
        "            qml.DoubleExcitation(theta[i],wires= excitation)\n",
        "        else:\n",
        "            qml.SingleExcitation(theta[i],wires=excitation)  \n",
        "    return qml.expval(H3mol)"
      ]
    },
    {
      "cell_type": "markdown",
      "metadata": {
        "id": "guu02if_z0HX"
      },
      "source": [
        "Next, we create the VQE optimizer, initialize the variational parameters and run the VQE optimization."
      ]
    },
    {
      "cell_type": "code",
      "execution_count": 8,
      "metadata": {
        "id": "vDHkb6txzyhz"
      },
      "outputs": [
        {
          "data": {
            "text/plain": [
              "(<Figure size 1200x700 with 1 Axes>, <Axes: >)"
            ]
          },
          "execution_count": 8,
          "metadata": {},
          "output_type": "execute_result"
        },
        {
          "data": {
            "image/png": "[encoded data removed]",
            "text/plain": [
              "<Figure size 1200x700 with 1 Axes>"
            ]
          },
          "metadata": {},
          "output_type": "display_data"
        }
      ],
      "source": [
        "#Define optimizer and initialize parameters\n",
        "opt = qml.GradientDescentOptimizer(stepsize = 0.4)\n",
        "theta = pnp.array(pnp.zeros(len(excitations)),requires_grad = True)\n",
        "#Draw circuit\n",
        "qml.draw_mpl(circuit_VQE)(theta, initial_state = wf_hf)\n"
      ]
    },
    {
      "cell_type": "code",
      "execution_count": 9,
      "metadata": {
        "id": "wPd1Podtv8N4"
      },
      "outputs": [
        {
          "name": "stdout",
          "output_type": "stream",
          "text": [
            "Step = 5,  Energy = -1.173803 Ha\n",
            "Step = 10,  Energy = -1.179865 Ha\n",
            "Step = 15,  Energy = -1.181626 Ha\n",
            "Step = 20,  Energy = -1.182239 Ha\n",
            "Step = 25,  Energy = -1.182461 Ha\n",
            "Step = 30,  Energy = -1.182543 Ha\n",
            "Starting with HF state took 31 iterations until convergence.\n"
          ]
        }
      ],
      "source": [
        "delta_E = 10\n",
        "results_hf =[]\n",
        "tol = 1e-5\n",
        "# run the VQE optimization loop until convergence threshold is reached\n",
        "while abs(delta_E) > tol:\n",
        "    #complete code here\n",
        "    theta,prev_energy = opt.step_and_cost(circuit_VQE, theta, initial_state = wf_hf)\n",
        "    new_energy = circuit_VQE(theta, initial_state = wf_hf )\n",
        "    delta_E = new_energy - prev_energy\n",
        "    results_hf.append(new_energy)\n",
        "    if len(results_hf) % 5 == 0:\n",
        "        print(f\"Step = {len(results_hf)},  Energy = {new_energy:.6f} Ha\")\n",
        "\n",
        "print(f\"Starting with HF state took {len(results_hf)} iterations until convergence.\")"
      ]
    },
    {
      "cell_type": "markdown",
      "metadata": {
        "id": "y1vmz_eluW98"
      },
      "source": [
        "And compare with how things go when you run it with the CISD initial state:"
      ]
    },
    {
      "cell_type": "code",
      "execution_count": 10,
      "metadata": {
        "collapsed": true,
        "id": "Te-X_Ue3uXLr"
      },
      "outputs": [
        {
          "name": "stdout",
          "output_type": "stream",
          "text": [
            "Step = 5,  Energy = -1.175150 Ha\n",
            "Step = 10,  Energy = -1.180406 Ha\n",
            "Step = 15,  Energy = -1.181857 Ha\n",
            "Step = 20,  Energy = -1.182329 Ha\n",
            "Step = 25,  Energy = -1.182495 Ha\n",
            "Starting with CISD state took 29 iterations until convergence.\n"
          ]
        }
      ],
      "source": [
        "\n",
        "delta_E = 10\n",
        "results_cisd = []\n",
        "\n",
        "while abs(delta_E) > tol:\n",
        "    #complete code here\n",
        "    theta,prev_energy = opt.step_and_cost(circuit_VQE, theta, initial_state = wf_cisd)\n",
        "    new_energy  = circuit_VQE(theta, initial_state = wf_cisd )\n",
        "    delta_E = new_energy - prev_energy\n",
        "    results_cisd.append(new_energy)\n",
        "    if len(results_cisd) % 5 == 0:\n",
        "        print(f\"Step = {len(results_cisd)},  Energy = {new_energy:.6f} Ha\")\n",
        "print(f\"Starting with CISD state took {len(results_cisd)} iterations until convergence.\")"
      ]
    },
    {
      "cell_type": "markdown",
      "metadata": {
        "id": "1HVTcM-8l_Yr"
      },
      "source": [
        "And with the CCSD initial state:"
      ]
    },
    {
      "cell_type": "code",
      "execution_count": 11,
      "metadata": {
        "collapsed": true,
        "id": "qGN61LSKlRD-"
      },
      "outputs": [
        {
          "name": "stdout",
          "output_type": "stream",
          "text": [
            "Starting with CCSD state took 1 iterations until convergence.\n"
          ]
        }
      ],
      "source": [
        "\n",
        "delta_E = 10\n",
        "results_ccsd = []\n",
        "\n",
        "while abs(delta_E) > tol:\n",
        "    #complete code here\n",
        "    theta,prev_energy = opt.step_and_cost(circuit_VQE, theta, initial_state = wf_ccsd)\n",
        "    new_energy  = circuit_VQE(theta, initial_state = wf_ccsd )\n",
        "    delta_E = new_energy - prev_energy\n",
        "    results_ccsd.append(new_energy)\n",
        "    if len(results_ccsd) % 5 == 0:\n",
        "        print(f\"Step = {len(results_ccsd)},  Energy = {new_energy:.6f} Ha\")\n",
        "print(f\"Starting with CCSD state took {len(results_ccsd)} iterations until convergence.\")"
      ]
    },
    {
      "cell_type": "markdown",
      "metadata": {
        "id": "SwO_cmxjucbw"
      },
      "source": [
        "Let’s visualize the comparison between the three initial states, and see that indeed we get to the ground state much faster by starting with the CISD and CCSD states than with the HF state."
      ]
    },
    {
      "cell_type": "code",
      "execution_count": 12,
      "metadata": {
        "collapsed": true,
        "id": "rJZtaLT0uhOn"
      },
      "outputs": [
        {
          "ename": "ValueError",
          "evalue": "x and y must have same first dimension, but have shapes (1,) and (29,)",
          "output_type": "error",
          "traceback": [
            "\u001b[0;31m---------------------------------------------------------------------------\u001b[0m",
            "\u001b[0;31mValueError\u001b[0m                                Traceback (most recent call last)",
            "Cell \u001b[0;32mIn[12], line 6\u001b[0m\n\u001b[1;32m      4\u001b[0m ax\u001b[38;5;241m.\u001b[39mplot(\u001b[38;5;28mrange\u001b[39m(\u001b[38;5;28mlen\u001b[39m(results_hf)), results_hf, color\u001b[38;5;241m=\u001b[39m\u001b[38;5;124m\"\u001b[39m\u001b[38;5;124mr\u001b[39m\u001b[38;5;124m\"\u001b[39m, marker\u001b[38;5;241m=\u001b[39m\u001b[38;5;124m\"\u001b[39m\u001b[38;5;124mo\u001b[39m\u001b[38;5;124m\"\u001b[39m, label\u001b[38;5;241m=\u001b[39m\u001b[38;5;124m\"\u001b[39m\u001b[38;5;124mwf_hf\u001b[39m\u001b[38;5;124m\"\u001b[39m)\n\u001b[1;32m      5\u001b[0m ax\u001b[38;5;241m.\u001b[39mplot(\u001b[38;5;28mrange\u001b[39m(\u001b[38;5;28mlen\u001b[39m(results_cisd)), results_cisd, color\u001b[38;5;241m=\u001b[39m\u001b[38;5;124m\"\u001b[39m\u001b[38;5;124mb\u001b[39m\u001b[38;5;124m\"\u001b[39m, marker\u001b[38;5;241m=\u001b[39m\u001b[38;5;124m\"\u001b[39m\u001b[38;5;124mo\u001b[39m\u001b[38;5;124m\"\u001b[39m, label\u001b[38;5;241m=\u001b[39m\u001b[38;5;124m\"\u001b[39m\u001b[38;5;124mwf_cisd\u001b[39m\u001b[38;5;124m\"\u001b[39m)\n\u001b[0;32m----> 6\u001b[0m ax\u001b[38;5;241m.\u001b[39mplot(\u001b[38;5;28mrange\u001b[39m(\u001b[38;5;28mlen\u001b[39m(results_ccsd)), results_cisd, color\u001b[38;5;241m=\u001b[39m\u001b[38;5;124m\"\u001b[39m\u001b[38;5;124mc\u001b[39m\u001b[38;5;124m\"\u001b[39m, marker\u001b[38;5;241m=\u001b[39m\u001b[38;5;124m\"\u001b[39m\u001b[38;5;124mx\u001b[39m\u001b[38;5;124m\"\u001b[39m, label\u001b[38;5;241m=\u001b[39m\u001b[38;5;124m\"\u001b[39m\u001b[38;5;124mwf_ccsd\u001b[39m\u001b[38;5;124m\"\u001b[39m)\n\u001b[1;32m      7\u001b[0m ax\u001b[38;5;241m.\u001b[39mlegend(fontsize\u001b[38;5;241m=\u001b[39m\u001b[38;5;241m16\u001b[39m)\n\u001b[1;32m      8\u001b[0m ax\u001b[38;5;241m.\u001b[39mtick_params(axis\u001b[38;5;241m=\u001b[39m\u001b[38;5;124m\"\u001b[39m\u001b[38;5;124mboth\u001b[39m\u001b[38;5;124m\"\u001b[39m, labelsize\u001b[38;5;241m=\u001b[39m\u001b[38;5;241m16\u001b[39m)\n",
            "File \u001b[0;32m/opt/homebrew/anaconda3/lib/python3.12/site-packages/matplotlib/axes/_axes.py:1724\u001b[0m, in \u001b[0;36mAxes.plot\u001b[0;34m(self, scalex, scaley, data, *args, **kwargs)\u001b[0m\n\u001b[1;32m   1481\u001b[0m \u001b[38;5;250m\u001b[39m\u001b[38;5;124;03m\"\"\"\u001b[39;00m\n\u001b[1;32m   1482\u001b[0m \u001b[38;5;124;03mPlot y versus x as lines and/or markers.\u001b[39;00m\n\u001b[1;32m   1483\u001b[0m \n\u001b[0;32m   (...)\u001b[0m\n\u001b[1;32m   1721\u001b[0m \u001b[38;5;124;03m(``'green'``) or hex strings (``'#008000'``).\u001b[39;00m\n\u001b[1;32m   1722\u001b[0m \u001b[38;5;124;03m\"\"\"\u001b[39;00m\n\u001b[1;32m   1723\u001b[0m kwargs \u001b[38;5;241m=\u001b[39m cbook\u001b[38;5;241m.\u001b[39mnormalize_kwargs(kwargs, mlines\u001b[38;5;241m.\u001b[39mLine2D)\n\u001b[0;32m-> 1724\u001b[0m lines \u001b[38;5;241m=\u001b[39m [\u001b[38;5;241m*\u001b[39m\u001b[38;5;28mself\u001b[39m\u001b[38;5;241m.\u001b[39m_get_lines(\u001b[38;5;28mself\u001b[39m, \u001b[38;5;241m*\u001b[39margs, data\u001b[38;5;241m=\u001b[39mdata, \u001b[38;5;241m*\u001b[39m\u001b[38;5;241m*\u001b[39mkwargs)]\n\u001b[1;32m   1725\u001b[0m \u001b[38;5;28;01mfor\u001b[39;00m line \u001b[38;5;129;01min\u001b[39;00m lines:\n\u001b[1;32m   1726\u001b[0m     \u001b[38;5;28mself\u001b[39m\u001b[38;5;241m.\u001b[39madd_line(line)\n",
            "File \u001b[0;32m/opt/homebrew/anaconda3/lib/python3.12/site-packages/matplotlib/axes/_base.py:303\u001b[0m, in \u001b[0;36m_process_plot_var_args.__call__\u001b[0;34m(self, axes, data, *args, **kwargs)\u001b[0m\n\u001b[1;32m    301\u001b[0m     this \u001b[38;5;241m+\u001b[39m\u001b[38;5;241m=\u001b[39m args[\u001b[38;5;241m0\u001b[39m],\n\u001b[1;32m    302\u001b[0m     args \u001b[38;5;241m=\u001b[39m args[\u001b[38;5;241m1\u001b[39m:]\n\u001b[0;32m--> 303\u001b[0m \u001b[38;5;28;01myield from\u001b[39;00m \u001b[38;5;28mself\u001b[39m\u001b[38;5;241m.\u001b[39m_plot_args(\n\u001b[1;32m    304\u001b[0m     axes, this, kwargs, ambiguous_fmt_datakey\u001b[38;5;241m=\u001b[39mambiguous_fmt_datakey)\n",
            "File \u001b[0;32m/opt/homebrew/anaconda3/lib/python3.12/site-packages/matplotlib/axes/_base.py:499\u001b[0m, in \u001b[0;36m_process_plot_var_args._plot_args\u001b[0;34m(self, axes, tup, kwargs, return_kwargs, ambiguous_fmt_datakey)\u001b[0m\n\u001b[1;32m    496\u001b[0m     axes\u001b[38;5;241m.\u001b[39myaxis\u001b[38;5;241m.\u001b[39mupdate_units(y)\n\u001b[1;32m    498\u001b[0m \u001b[38;5;28;01mif\u001b[39;00m x\u001b[38;5;241m.\u001b[39mshape[\u001b[38;5;241m0\u001b[39m] \u001b[38;5;241m!=\u001b[39m y\u001b[38;5;241m.\u001b[39mshape[\u001b[38;5;241m0\u001b[39m]:\n\u001b[0;32m--> 499\u001b[0m     \u001b[38;5;28;01mraise\u001b[39;00m \u001b[38;5;167;01mValueError\u001b[39;00m(\u001b[38;5;124mf\u001b[39m\u001b[38;5;124m\"\u001b[39m\u001b[38;5;124mx and y must have same first dimension, but \u001b[39m\u001b[38;5;124m\"\u001b[39m\n\u001b[1;32m    500\u001b[0m                      \u001b[38;5;124mf\u001b[39m\u001b[38;5;124m\"\u001b[39m\u001b[38;5;124mhave shapes \u001b[39m\u001b[38;5;132;01m{\u001b[39;00mx\u001b[38;5;241m.\u001b[39mshape\u001b[38;5;132;01m}\u001b[39;00m\u001b[38;5;124m and \u001b[39m\u001b[38;5;132;01m{\u001b[39;00my\u001b[38;5;241m.\u001b[39mshape\u001b[38;5;132;01m}\u001b[39;00m\u001b[38;5;124m\"\u001b[39m)\n\u001b[1;32m    501\u001b[0m \u001b[38;5;28;01mif\u001b[39;00m x\u001b[38;5;241m.\u001b[39mndim \u001b[38;5;241m>\u001b[39m \u001b[38;5;241m2\u001b[39m \u001b[38;5;129;01mor\u001b[39;00m y\u001b[38;5;241m.\u001b[39mndim \u001b[38;5;241m>\u001b[39m \u001b[38;5;241m2\u001b[39m:\n\u001b[1;32m    502\u001b[0m     \u001b[38;5;28;01mraise\u001b[39;00m \u001b[38;5;167;01mValueError\u001b[39;00m(\u001b[38;5;124mf\u001b[39m\u001b[38;5;124m\"\u001b[39m\u001b[38;5;124mx and y can be no greater than 2D, but have \u001b[39m\u001b[38;5;124m\"\u001b[39m\n\u001b[1;32m    503\u001b[0m                      \u001b[38;5;124mf\u001b[39m\u001b[38;5;124m\"\u001b[39m\u001b[38;5;124mshapes \u001b[39m\u001b[38;5;132;01m{\u001b[39;00mx\u001b[38;5;241m.\u001b[39mshape\u001b[38;5;132;01m}\u001b[39;00m\u001b[38;5;124m and \u001b[39m\u001b[38;5;132;01m{\u001b[39;00my\u001b[38;5;241m.\u001b[39mshape\u001b[38;5;132;01m}\u001b[39;00m\u001b[38;5;124m\"\u001b[39m)\n",
            "\u001b[0;31mValueError\u001b[0m: x and y must have same first dimension, but have shapes (1,) and (29,)"
          ]
        },
        {
          "data": {
            "image/png": "[encoded data removed]",
            "text/plain": [
              "<Figure size 640x480 with 1 Axes>"
            ]
          },
          "metadata": {},
          "output_type": "display_data"
        }
      ],
      "source": [
        "import matplotlib.pyplot as plt\n",
        "\n",
        "fig, ax = plt.subplots()\n",
        "ax.plot(range(len(results_hf)), results_hf, color=\"r\", marker=\"o\", label=\"wf_hf\")\n",
        "ax.plot(range(len(results_cisd)), results_cisd, color=\"b\", marker=\"o\", label=\"wf_cisd\")\n",
        "ax.plot(range(len(results_ccsd)), results_cisd, color=\"c\", marker=\"x\", label=\"wf_ccsd\")\n",
        "ax.legend(fontsize=16)\n",
        "ax.tick_params(axis=\"both\", labelsize=16)\n",
        "ax.set_xlabel(\"Iteration\", fontsize=20)\n",
        "ax.set_ylabel(\"Energy, Ha\", fontsize=20)\n",
        "plt.tight_layout()\n",
        "plt.show()"
      ]
    },
    {
      "cell_type": "markdown",
      "metadata": {
        "id": "XtgslhdDuhrq"
      },
      "source": [
        "Indeed, the CISD and CCSD states significantly shorten the VQE runtime.\n",
        "\n",
        "It is sometimes possible to foresee the extent of this speed-up of a particular initial state by computing its overlap with the ground state–a traditional metric of success for initial states in quantum algorithms. Because in our examples the states are regular arrays, computing an overlap between different states is as easy as computing a dot product."
      ]
    },
    {
      "cell_type": "code",
      "execution_count": 14,
      "metadata": {
        "collapsed": true,
        "id": "hYricROCupae"
      },
      "outputs": [],
      "source": [
        "#Compute the overlap of the different states"
      ]
    },
    {
      "cell_type": "markdown",
      "metadata": {
        "id": "asI1-is_uw1x"
      },
      "source": [
        "In this particular case of H3+, even CISD gives the exact wavefunction, hence both overlaps with the HF state are identical. In more correlated molecules, overlaps will show that the more multireference methods DMRG and SHCI are farther away from the Hartree-Fock state, allowing them to perform better (you can check this by printing the overlaps with DMRG and SHCI in a more correlated molecule). If a ground state in such a case was known, the overlap to it could tell us directly the quality of the initial state."
      ]
    },
    {
      "cell_type": "markdown",
      "metadata": {
        "id": "xeQtyN8DuVub"
      },
      "source": [
        "## Back to the presentation"
      ]
    },
    {
      "cell_type": "markdown",
      "metadata": {
        "id": "OBoNMXHTuY3T"
      },
      "source": [
        "## Estimating reaction rates from reconstructed potential energy surfaces"
      ]
    },
    {
      "cell_type": "markdown",
      "metadata": {
        "id": "XoSbehTQqJPa"
      },
      "source": [
        "## Bond dissociation in an H2 molecule"
      ]
    },
    {
      "cell_type": "markdown",
      "metadata": {
        "id": "sm37okKkqZE4"
      },
      "source": [
        "To build the potential energy surface, we compute the energy for fixed\n",
        "positions of the nuclei, and subsequently adjust the positions of the\n",
        "nuclei in incremental steps, computing the energies at each new\n",
        "configuration. The obtained set of energies corresponds to a grid of\n",
        "nuclear positions and the plot of $E(R)$ gives rise to the potential\n",
        "energy surface."
      ]
    },
    {
      "cell_type": "markdown",
      "metadata": {
        "id": "HcffGFWQqinW"
      },
      "source": [
        "We would like to construct a potential energy surface and use it to compute\n",
        "equilibrium bond lengths and the bond dissociation energy for the $H_2$ molecule. The formation or breaking of the $H-H$\n",
        "bond is the most elementary of all reactions:\n",
        "\n",
        "$$H_2 \\rightarrow H + H.$$"
      ]
    },
    {
      "cell_type": "code",
      "execution_count": 17,
      "metadata": {
        "id": "e2fOdPS-qczL"
      },
      "outputs": [],
      "source": [
        "# Create the Hartree-Fock initial state for the molecule.\n",
        "# Note: we already know we will  have 2 electrons and 4 orbitals for the H2 molecule\n",
        "orbitals = 4\n",
        "hf = qml.qchem.hf_state(electrons = 2,orbitals = 4)\n",
        "#Define structure of molecule from symbols and coordinates in atomic units\n",
        "symbols = [\"H\",\"H\"]"
      ]
    },
    {
      "cell_type": "markdown",
      "metadata": {
        "id": "8MchJ2NZsLDw"
      },
      "source": [
        "We vary the bond length in the range  0.5 to 5.0 Bohrs in steps of 0.25 Bohr. This covers the point where the H−H bond is formed, the equilibrium bond length, and the point where the bond is broken, which occurs when the atoms are far away from each other."
      ]
    },
    {
      "cell_type": "code",
      "execution_count": null,
      "metadata": {
        "id": "bK7Yz7PCrF8a"
      },
      "outputs": [],
      "source": [
        "# list to store energies\n",
        "energies = []\n",
        "\n",
        "#vary the bond length in the range 0.5 to 5.0 Bohrs in steps of 0.25 Bohr.\n",
        "\n",
        "# set up a loop to change bond length\n",
        "r_range = pnp.arange(0.5, 5.0, 0.25)\n",
        "\n",
        "# keeps track of points in the potential energy surface\n",
        "pes_point = 0\n",
        "\n",
        "\n",
        "\n",
        "# Create all possible excitations in H2\n",
        "singles, doubles = qml.qchem.excitations(electrons = 2, orbitals = 4)\n",
        "#combine all the the possible excitations\n",
        "excitations = singles + doubles\n",
        "print(\"Excitations: \",excitations)\n"
      ]
    },
    {
      "cell_type": "code",
      "execution_count": null,
      "metadata": {
        "id": "yXHQtCnowL08"
      },
      "outputs": [],
      "source": [
        "for r in r_range:\n",
        "    # Change only the z coordinate of one atom\n",
        "\n",
        "\n",
        "    # Obtain the qubit Hamiltonian - need to specify the pyscf backend for functional reasons\n",
        "\n",
        "\n",
        "    #Build circuit\n",
        "    # define the device, optimizer and circuit\n",
        "\n",
        "\n",
        "\n",
        "\n",
        "\n",
        "    # define optizmier and initialize the gate parameters\n",
        "\n",
        "\n",
        "    # initialize with converged parameters from previous point\n",
        "\n",
        "\n",
        "\n",
        "\n",
        "    # store the converged parameters\n",
        "## C: AQUI O PROFESSOR SÓ BOTOU TUDO"
      ]
    },
    {
      "cell_type": "code",
      "execution_count": null,
      "metadata": {
        "id": "6n8KSaQp8ZPP"
      },
      "outputs": [],
      "source": [
        "#Draw the circuit\n",
        "qml.draw_mpl(H2_circuit)(pnp.zeros(3))"
      ]
    },
    {
      "cell_type": "code",
      "execution_count": null,
      "metadata": {
        "id": "4GHlWAiItSXp"
      },
      "outputs": [],
      "source": [
        "import matplotlib.pyplot as plt\n",
        "\n",
        "fig, ax = plt.subplots()\n",
        "ax.plot(r_range, energies)\n",
        "\n",
        "ax.set(\n",
        "    xlabel=\"Bond length (Bohr)\",\n",
        "    ylabel=\"Total energy (Hartree)\",\n",
        "    title=\"Potential energy surface for H$_2$ dissociation\",\n",
        ")\n",
        "ax.grid()\n",
        "plt.show()"
      ]
    },
    {
      "cell_type": "code",
      "execution_count": null,
      "metadata": {
        "colab": {
          "base_uri": "https://localhost:8080/"
        },
        "id": "NaMC80w_ta4Z",
        "outputId": "81f51d41-7697-45df-c5f0-0cd7a09141ee"
      },
      "outputs": [],
      "source": [
        "# equilibrium energy\n",
        "e_eq = min(energies)\n",
        "# energy when atoms are far apart\n",
        "e_dis = energies[-1]\n",
        "\n",
        "# Bond dissociation energy\n",
        "bond_energy = e_dis - e_eq\n",
        "\n",
        "# Equilibrium bond length\n",
        "idx = energies.index(e_eq)\n",
        "bond_length = r_range[idx]\n",
        "\n",
        "print(f\"The equilibrium bond length is {bond_length:.1f} Bohrs\")\n",
        "print(f\"The bond dissociation energy is {bond_energy:.6f} Hartrees\")"
      ]
    },
    {
      "cell_type": "markdown",
      "metadata": {
        "id": "FcS4TV8ytjCL"
      },
      "source": [
        "## Hydrogen Exchange Reaction with the VQE algorithm"
      ]
    },
    {
      "cell_type": "markdown",
      "metadata": {
        "id": "LpYGz6Qfu80m"
      },
      "source": [
        "After studying a simple diatomic bond dissociation, we move to a\n",
        "slightly more complicated case: a hydrogen exchange reaction.\n",
        "\n",
        "$$H_2 + H \\rightarrow H + H_2.$$"
      ]
    },
    {
      "cell_type": "markdown",
      "metadata": {
        "id": "uJUzFms1vHcM"
      },
      "source": [
        "In a minimal basis like STO-3G, this system consists of three electrons\n",
        "in six spin molecular orbitals. This translates into a six-qubit\n",
        "problem, for which the Hartree-Fock state is $|111000\\rangle$. As there\n",
        "is an unpaired electron, the spin multiplicity is equal to two and needs\n",
        "to be specified, since it differs from the default value of one.\n",
        "\n",
        "\n",
        " Spin multiplicity $\\textrm{mult} = N_{unpaired} + 1$ for $N_{unpaired}$\n",
        " unpaired electrons occupying the HF orbitals."
      ]
    },
    {
      "cell_type": "code",
      "execution_count": 18,
      "metadata": {
        "collapsed": true,
        "id": "D4iOL29yy3Pi"
      },
      "outputs": [
        {
          "name": "stdout",
          "output_type": "stream",
          "text": [
            "Collecting openfermion\n",
            "  Downloading openfermion-1.6.1-py3-none-any.whl.metadata (10 kB)\n",
            "Collecting cirq-core~=1.0 (from openfermion)\n",
            "  Downloading cirq_core-1.4.1-py3-none-any.whl.metadata (1.8 kB)\n",
            "Collecting deprecation (from openfermion)\n",
            "  Downloading deprecation-2.1.0-py2.py3-none-any.whl.metadata (4.6 kB)\n",
            "Requirement already satisfied: h5py>=2.8 in /opt/homebrew/anaconda3/lib/python3.12/site-packages (from openfermion) (3.11.0)\n",
            "Requirement already satisfied: networkx in /opt/homebrew/anaconda3/lib/python3.12/site-packages (from openfermion) (3.2.1)\n",
            "Requirement already satisfied: numpy>=1.11.0 in /opt/homebrew/anaconda3/lib/python3.12/site-packages (from openfermion) (1.26.4)\n",
            "Collecting pubchempy (from openfermion)\n",
            "  Downloading PubChemPy-1.0.4.tar.gz (29 kB)\n",
            "  Preparing metadata (setup.py) ... \u001b[?25ldone\n",
            "\u001b[?25hRequirement already satisfied: requests>=2.18 in /opt/homebrew/anaconda3/lib/python3.12/site-packages (from openfermion) (2.32.2)\n",
            "Requirement already satisfied: scipy>=1.1.0 in /opt/homebrew/anaconda3/lib/python3.12/site-packages (from openfermion) (1.13.1)\n",
            "Requirement already satisfied: sympy in /opt/homebrew/anaconda3/lib/python3.12/site-packages (from openfermion) (1.12)\n",
            "Requirement already satisfied: attrs>=21.3.0 in /opt/homebrew/anaconda3/lib/python3.12/site-packages (from cirq-core~=1.0->openfermion) (24.2.0)\n",
            "Collecting duet>=0.2.8 (from cirq-core~=1.0->openfermion)\n",
            "  Downloading duet-0.2.9-py3-none-any.whl.metadata (2.3 kB)\n",
            "Requirement already satisfied: matplotlib~=3.0 in /opt/homebrew/anaconda3/lib/python3.12/site-packages (from cirq-core~=1.0->openfermion) (3.8.4)\n",
            "Requirement already satisfied: pandas in /opt/homebrew/anaconda3/lib/python3.12/site-packages (from cirq-core~=1.0->openfermion) (2.2.2)\n",
            "Requirement already satisfied: sortedcontainers~=2.0 in /opt/homebrew/anaconda3/lib/python3.12/site-packages (from cirq-core~=1.0->openfermion) (2.4.0)\n",
            "Requirement already satisfied: typing-extensions>=4.2 in /opt/homebrew/anaconda3/lib/python3.12/site-packages (from cirq-core~=1.0->openfermion) (4.11.0)\n",
            "Requirement already satisfied: tqdm in /opt/homebrew/anaconda3/lib/python3.12/site-packages (from cirq-core~=1.0->openfermion) (4.66.4)\n",
            "Requirement already satisfied: charset-normalizer<4,>=2 in /opt/homebrew/anaconda3/lib/python3.12/site-packages (from requests>=2.18->openfermion) (2.0.4)\n",
            "Requirement already satisfied: idna<4,>=2.5 in /opt/homebrew/anaconda3/lib/python3.12/site-packages (from requests>=2.18->openfermion) (3.7)\n",
            "Requirement already satisfied: urllib3<3,>=1.21.1 in /opt/homebrew/anaconda3/lib/python3.12/site-packages (from requests>=2.18->openfermion) (2.2.2)\n",
            "Requirement already satisfied: certifi>=2017.4.17 in /opt/homebrew/anaconda3/lib/python3.12/site-packages (from requests>=2.18->openfermion) (2024.8.30)\n",
            "Requirement already satisfied: packaging in /opt/homebrew/anaconda3/lib/python3.12/site-packages (from deprecation->openfermion) (23.2)\n",
            "Requirement already satisfied: mpmath>=0.19 in /opt/homebrew/anaconda3/lib/python3.12/site-packages (from sympy->openfermion) (1.3.0)\n",
            "Requirement already satisfied: contourpy>=1.0.1 in /opt/homebrew/anaconda3/lib/python3.12/site-packages (from matplotlib~=3.0->cirq-core~=1.0->openfermion) (1.2.0)\n",
            "Requirement already satisfied: cycler>=0.10 in /opt/homebrew/anaconda3/lib/python3.12/site-packages (from matplotlib~=3.0->cirq-core~=1.0->openfermion) (0.11.0)\n",
            "Requirement already satisfied: fonttools>=4.22.0 in /opt/homebrew/anaconda3/lib/python3.12/site-packages (from matplotlib~=3.0->cirq-core~=1.0->openfermion) (4.51.0)\n",
            "Requirement already satisfied: kiwisolver>=1.3.1 in /opt/homebrew/anaconda3/lib/python3.12/site-packages (from matplotlib~=3.0->cirq-core~=1.0->openfermion) (1.4.4)\n",
            "Requirement already satisfied: pillow>=8 in /opt/homebrew/anaconda3/lib/python3.12/site-packages (from matplotlib~=3.0->cirq-core~=1.0->openfermion) (10.3.0)\n",
            "Requirement already satisfied: pyparsing>=2.3.1 in /opt/homebrew/anaconda3/lib/python3.12/site-packages (from matplotlib~=3.0->cirq-core~=1.0->openfermion) (3.0.9)\n",
            "Requirement already satisfied: python-dateutil>=2.7 in /opt/homebrew/anaconda3/lib/python3.12/site-packages (from matplotlib~=3.0->cirq-core~=1.0->openfermion) (2.9.0.post0)\n",
            "Requirement already satisfied: pytz>=2020.1 in /opt/homebrew/anaconda3/lib/python3.12/site-packages (from pandas->cirq-core~=1.0->openfermion) (2024.1)\n",
            "Requirement already satisfied: tzdata>=2022.7 in /opt/homebrew/anaconda3/lib/python3.12/site-packages (from pandas->cirq-core~=1.0->openfermion) (2023.3)\n",
            "Requirement already satisfied: six>=1.5 in /opt/homebrew/anaconda3/lib/python3.12/site-packages (from python-dateutil>=2.7->matplotlib~=3.0->cirq-core~=1.0->openfermion) (1.16.0)\n",
            "Downloading openfermion-1.6.1-py3-none-any.whl (1.2 MB)\n",
            "\u001b[2K   \u001b[90m━━━━━━━━━━━━━━━━━━━━━━━━━━━━━━━━━━━━━━━━\u001b[0m \u001b[32m1.2/1.2 MB\u001b[0m \u001b[31m5.2 MB/s\u001b[0m eta \u001b[36m0:00:00\u001b[0mta \u001b[36m0:00:01\u001b[0m\n",
            "\u001b[?25hDownloading cirq_core-1.4.1-py3-none-any.whl (1.9 MB)\n",
            "\u001b[2K   \u001b[90m━━━━━━━━━━━━━━━━━━━━━━━━━━━━━━━━━━━━━━━━\u001b[0m \u001b[32m1.9/1.9 MB\u001b[0m \u001b[31m10.0 MB/s\u001b[0m eta \u001b[36m0:00:00\u001b[0m \u001b[36m0:00:01\u001b[0m\n",
            "\u001b[?25hDownloading deprecation-2.1.0-py2.py3-none-any.whl (11 kB)\n",
            "Downloading duet-0.2.9-py3-none-any.whl (29 kB)\n",
            "Building wheels for collected packages: pubchempy\n",
            "  Building wheel for pubchempy (setup.py) ... \u001b[?25ldone\n",
            "\u001b[?25h  Created wheel for pubchempy: filename=PubChemPy-1.0.4-py3-none-any.whl size=13820 sha256=a51263f9c90e39289d5ff6893be0fc34e862b3116bccc106f38f5bd0d6ed3a4d\n",
            "  Stored in directory: /Users/caio/Library/Caches/pip/wheels/78/0f/d0/080f82ce0d7fdc771401b6acac304bd2ee77d67dee34737bd6\n",
            "Successfully built pubchempy\n",
            "Installing collected packages: pubchempy, duet, deprecation, cirq-core, openfermion\n",
            "Successfully installed cirq-core-1.4.1 deprecation-2.1.0 duet-0.2.9 openfermion-1.6.1 pubchempy-1.0.4\n",
            "Collecting openfermionpyscf\n",
            "  Downloading openfermionpyscf-0.5-py3-none-any.whl.metadata (6.9 kB)\n",
            "Requirement already satisfied: openfermion>=0.5 in /opt/homebrew/anaconda3/lib/python3.12/site-packages (from openfermionpyscf) (1.6.1)\n",
            "Requirement already satisfied: pyscf in /opt/homebrew/anaconda3/lib/python3.12/site-packages (from openfermionpyscf) (2.7.0)\n",
            "Requirement already satisfied: pytest in /opt/homebrew/anaconda3/lib/python3.12/site-packages (from openfermionpyscf) (7.4.4)\n",
            "Requirement already satisfied: cirq-core~=1.0 in /opt/homebrew/anaconda3/lib/python3.12/site-packages (from openfermion>=0.5->openfermionpyscf) (1.4.1)\n",
            "Requirement already satisfied: deprecation in /opt/homebrew/anaconda3/lib/python3.12/site-packages (from openfermion>=0.5->openfermionpyscf) (2.1.0)\n",
            "Requirement already satisfied: h5py>=2.8 in /opt/homebrew/anaconda3/lib/python3.12/site-packages (from openfermion>=0.5->openfermionpyscf) (3.11.0)\n",
            "Requirement already satisfied: networkx in /opt/homebrew/anaconda3/lib/python3.12/site-packages (from openfermion>=0.5->openfermionpyscf) (3.2.1)\n",
            "Requirement already satisfied: numpy>=1.11.0 in /opt/homebrew/anaconda3/lib/python3.12/site-packages (from openfermion>=0.5->openfermionpyscf) (1.26.4)\n",
            "Requirement already satisfied: pubchempy in /opt/homebrew/anaconda3/lib/python3.12/site-packages (from openfermion>=0.5->openfermionpyscf) (1.0.4)\n",
            "Requirement already satisfied: requests>=2.18 in /opt/homebrew/anaconda3/lib/python3.12/site-packages (from openfermion>=0.5->openfermionpyscf) (2.32.2)\n",
            "Requirement already satisfied: scipy>=1.1.0 in /opt/homebrew/anaconda3/lib/python3.12/site-packages (from openfermion>=0.5->openfermionpyscf) (1.13.1)\n",
            "Requirement already satisfied: sympy in /opt/homebrew/anaconda3/lib/python3.12/site-packages (from openfermion>=0.5->openfermionpyscf) (1.12)\n",
            "Requirement already satisfied: setuptools in /opt/homebrew/anaconda3/lib/python3.12/site-packages (from pyscf->openfermionpyscf) (69.5.1)\n",
            "Requirement already satisfied: iniconfig in /opt/homebrew/anaconda3/lib/python3.12/site-packages (from pytest->openfermionpyscf) (1.1.1)\n",
            "Requirement already satisfied: packaging in /opt/homebrew/anaconda3/lib/python3.12/site-packages (from pytest->openfermionpyscf) (23.2)\n",
            "Requirement already satisfied: pluggy<2.0,>=0.12 in /opt/homebrew/anaconda3/lib/python3.12/site-packages (from pytest->openfermionpyscf) (1.0.0)\n",
            "Requirement already satisfied: attrs>=21.3.0 in /opt/homebrew/anaconda3/lib/python3.12/site-packages (from cirq-core~=1.0->openfermion>=0.5->openfermionpyscf) (24.2.0)\n",
            "Requirement already satisfied: duet>=0.2.8 in /opt/homebrew/anaconda3/lib/python3.12/site-packages (from cirq-core~=1.0->openfermion>=0.5->openfermionpyscf) (0.2.9)\n",
            "Requirement already satisfied: matplotlib~=3.0 in /opt/homebrew/anaconda3/lib/python3.12/site-packages (from cirq-core~=1.0->openfermion>=0.5->openfermionpyscf) (3.8.4)\n",
            "Requirement already satisfied: pandas in /opt/homebrew/anaconda3/lib/python3.12/site-packages (from cirq-core~=1.0->openfermion>=0.5->openfermionpyscf) (2.2.2)\n",
            "Requirement already satisfied: sortedcontainers~=2.0 in /opt/homebrew/anaconda3/lib/python3.12/site-packages (from cirq-core~=1.0->openfermion>=0.5->openfermionpyscf) (2.4.0)\n",
            "Requirement already satisfied: typing-extensions>=4.2 in /opt/homebrew/anaconda3/lib/python3.12/site-packages (from cirq-core~=1.0->openfermion>=0.5->openfermionpyscf) (4.11.0)\n",
            "Requirement already satisfied: tqdm in /opt/homebrew/anaconda3/lib/python3.12/site-packages (from cirq-core~=1.0->openfermion>=0.5->openfermionpyscf) (4.66.4)\n",
            "Requirement already satisfied: charset-normalizer<4,>=2 in /opt/homebrew/anaconda3/lib/python3.12/site-packages (from requests>=2.18->openfermion>=0.5->openfermionpyscf) (2.0.4)\n",
            "Requirement already satisfied: idna<4,>=2.5 in /opt/homebrew/anaconda3/lib/python3.12/site-packages (from requests>=2.18->openfermion>=0.5->openfermionpyscf) (3.7)\n",
            "Requirement already satisfied: urllib3<3,>=1.21.1 in /opt/homebrew/anaconda3/lib/python3.12/site-packages (from requests>=2.18->openfermion>=0.5->openfermionpyscf) (2.2.2)\n",
            "Requirement already satisfied: certifi>=2017.4.17 in /opt/homebrew/anaconda3/lib/python3.12/site-packages (from requests>=2.18->openfermion>=0.5->openfermionpyscf) (2024.8.30)\n",
            "Requirement already satisfied: mpmath>=0.19 in /opt/homebrew/anaconda3/lib/python3.12/site-packages (from sympy->openfermion>=0.5->openfermionpyscf) (1.3.0)\n",
            "Requirement already satisfied: contourpy>=1.0.1 in /opt/homebrew/anaconda3/lib/python3.12/site-packages (from matplotlib~=3.0->cirq-core~=1.0->openfermion>=0.5->openfermionpyscf) (1.2.0)\n",
            "Requirement already satisfied: cycler>=0.10 in /opt/homebrew/anaconda3/lib/python3.12/site-packages (from matplotlib~=3.0->cirq-core~=1.0->openfermion>=0.5->openfermionpyscf) (0.11.0)\n",
            "Requirement already satisfied: fonttools>=4.22.0 in /opt/homebrew/anaconda3/lib/python3.12/site-packages (from matplotlib~=3.0->cirq-core~=1.0->openfermion>=0.5->openfermionpyscf) (4.51.0)\n",
            "Requirement already satisfied: kiwisolver>=1.3.1 in /opt/homebrew/anaconda3/lib/python3.12/site-packages (from matplotlib~=3.0->cirq-core~=1.0->openfermion>=0.5->openfermionpyscf) (1.4.4)\n",
            "Requirement already satisfied: pillow>=8 in /opt/homebrew/anaconda3/lib/python3.12/site-packages (from matplotlib~=3.0->cirq-core~=1.0->openfermion>=0.5->openfermionpyscf) (10.3.0)\n",
            "Requirement already satisfied: pyparsing>=2.3.1 in /opt/homebrew/anaconda3/lib/python3.12/site-packages (from matplotlib~=3.0->cirq-core~=1.0->openfermion>=0.5->openfermionpyscf) (3.0.9)\n",
            "Requirement already satisfied: python-dateutil>=2.7 in /opt/homebrew/anaconda3/lib/python3.12/site-packages (from matplotlib~=3.0->cirq-core~=1.0->openfermion>=0.5->openfermionpyscf) (2.9.0.post0)\n",
            "Requirement already satisfied: pytz>=2020.1 in /opt/homebrew/anaconda3/lib/python3.12/site-packages (from pandas->cirq-core~=1.0->openfermion>=0.5->openfermionpyscf) (2024.1)\n",
            "Requirement already satisfied: tzdata>=2022.7 in /opt/homebrew/anaconda3/lib/python3.12/site-packages (from pandas->cirq-core~=1.0->openfermion>=0.5->openfermionpyscf) (2023.3)\n",
            "Requirement already satisfied: six>=1.5 in /opt/homebrew/anaconda3/lib/python3.12/site-packages (from python-dateutil>=2.7->matplotlib~=3.0->cirq-core~=1.0->openfermion>=0.5->openfermionpyscf) (1.16.0)\n",
            "Downloading openfermionpyscf-0.5-py3-none-any.whl (16 kB)\n",
            "Installing collected packages: openfermionpyscf\n",
            "Successfully installed openfermionpyscf-0.5\n"
          ]
        }
      ],
      "source": [
        "#install openfermion an openfermionpyscf\n",
        "!pip install openfermion\n",
        "!pip install openfermionpyscf"
      ]
    },
    {
      "cell_type": "markdown",
      "metadata": {
        "id": "GM1tp30XDWrz"
      },
      "source": [
        "## Potential energy surface for hydrogen exchange reaction using VQE\n",
        "\n",
        "Note: We will use [qml.templates.AllSinglesDoubles](https://docs.pennylane.ai/en/stable/code/api/pennylane.AllSinglesDoubles.html) to build a quantum circuit to prepare correlated states of molecules by applying all SingleExcitation and DoubleExcitation operations to the initial Hartree-Fock state."
      ]
    },
    {
      "cell_type": "code",
      "execution_count": 32,
      "metadata": {
        "id": "jT1qKuc3xBSg"
      },
      "outputs": [],
      "source": [
        "#Define the molecule\n",
        "symbols = [\"H\",\"H\",\"H\"]\n",
        "multiplicity = 2\n",
        "#C: Pennylane assumes multiplicity = 1, but as we have an unpaired electron, so multiplicity = n. of unpaired electrons + 1. So, in this case =2\n",
        "\n",
        "\n",
        "\n",
        "energies = []\n",
        "pes_point = 0\n",
        "\n",
        "# get all the singles and doubles excitations, and Hartree-Fock state\n",
        "electrons = 3\n",
        "orbitals = 6\n",
        "\n",
        "singles,doubles = qml.qchem.excitations(electrons,orbitals)\n",
        "\n",
        "#we are going to use the hf state(could use the others)\n",
        "hf = qml.qchem.hf_state(electrons,orbitals)\n",
        "\n",
        "\n",
        "\n",
        "\n",
        "#Choose optimizer and the number of iterations\n",
        "opt = qml.GradientDescentOptimizer(stepsize= 1.5)\n",
        "\n",
        "num_iterations = 60\n",
        "\n"
      ]
    },
    {
      "cell_type": "code",
      "execution_count": 33,
      "metadata": {
        "id": "NEwG8EtBNUOm"
      },
      "outputs": [],
      "source": [
        "# loop to change reaction coordinate\n",
        "r_range = pnp.arange(1.0, 3.0, 0.1)\n",
        "\n",
        "for r in r_range:\n",
        "\n",
        "    #Keep two hydrogen atoms in place separated by 4 Bohrs, and vary the location of the third hydrogen atom\n",
        "    coordinates = pnp.array([[0.0, 0.0, 0.0], [0.0, 0.0, r], [0.0, 0.0, 4.0]])\n",
        "\n",
        "    # Define molecule opbject and generaet Hamiltonian\n",
        "    #Note that e now specify the multiplicity\n",
        "    molecule = qml.qchem.Molecule(symbols, coordinates, mult = multiplicity)\n",
        "    H, qubits = qml.qchem.molecular_hamiltonian(molecule, method = 'openfermion')\n",
        "\n",
        "   #Note: openfermion backend needed in defining Hamiltonians that describe open-shell systems (with multiplicity greater than 1)\n",
        "\n",
        "\n",
        "  #Define circuit\n",
        "    dev = qml.device(\"default.qubit\", wires=qubits)\n",
        "\n",
        "    @qml.qnode(dev)\n",
        "    def H3_rx_circuit(parameters):\n",
        "      #Use the AllSingleDoulbes template to genereate single and double excitations\n",
        "      #complete this code\n",
        "      qml.templates.AllSinglesDoubles(parameters, range(orbitals),hf,singles, doubles)\n",
        "      return qml.expval(H)  # we are interested in minimizing this expectation value\n",
        "\n",
        "    #Optimization loop\n",
        "    params = pnp.zeros(len(singles) + len(doubles), requires_grad=True)\n",
        "\n",
        "    if pes_point > 0:\n",
        "        params = params_old\n",
        "\n",
        "    prev_energy = 0.0\n",
        "\n",
        "    for n in range(num_iterations):\n",
        "        params, energy = opt.step_and_cost(H3_rx_circuit, params)\n",
        "        if pnp.abs(energy - prev_energy) < 1e-6:\n",
        "            break\n",
        "        prev_energy = energy\n",
        "\n",
        "    # store the converged parameters\n",
        "    params_old = params\n",
        "    pes_point = pes_point + 1\n",
        "\n",
        "    energies.append(energy)\n",
        "\n"
      ]
    },
    {
      "cell_type": "code",
      "execution_count": 39,
      "metadata": {
        "id": "r68U00tj9hPe"
      },
      "outputs": [
        {
          "data": {
            "text/plain": [
              "(<Figure size 400x700 with 1 Axes>, <Axes: >)"
            ]
          },
          "execution_count": 39,
          "metadata": {},
          "output_type": "execute_result"
        },
        {
          "data": {
            "image/png": "[encoded data removed]",
            "text/plain": [
              "<Figure size 400x700 with 1 Axes>"
            ]
          },
          "metadata": {},
          "output_type": "display_data"
        }
      ],
      "source": [
        "#Draw circuit\n",
        "qml.draw_mpl(H3_rx_circuit)(params)\n",
        "## C: TA ERRADO AQUI, ver exatamente o que ele colocou  "
      ]
    },
    {
      "cell_type": "code",
      "execution_count": 34,
      "metadata": {
        "id": "klLkofaSzUKN"
      },
      "outputs": [
        {
          "data": {
            "image/png": "[encoded data removed]",
            "text/plain": [
              "<Figure size 640x480 with 1 Axes>"
            ]
          },
          "metadata": {},
          "output_type": "display_data"
        }
      ],
      "source": [
        "#Plot PES\n",
        "import matplotlib.pyplot as plt\n",
        "\n",
        "fig, ax = plt.subplots()\n",
        "ax.plot(r_range, energies)\n",
        "\n",
        "\n",
        "ax.set_xlabel('Distance (Bohr)', fontsize=16)\n",
        "ax.set_ylabel('Total energy (Hartree)', fontsize=16)\n",
        "\n",
        "\n",
        "ax.grid()\n",
        "plt.show()"
      ]
    },
    {
      "cell_type": "markdown",
      "metadata": {
        "id": "V-QWq4NWNd46"
      },
      "source": [
        "From the potential energy surface (PES), we can estimate the activation energy by calculating the difference between the energy of the reactants and the energy of the transition state."
      ]
    },
    {
      "cell_type": "code",
      "execution_count": 40,
      "metadata": {
        "id": "9OCC7xcX7XmG"
      },
      "outputs": [
        {
          "name": "stdout",
          "output_type": "stream",
          "text": [
            "The activation energy is 0.027504 Hartrees\n"
          ]
        }
      ],
      "source": [
        "# Energy of the reactants and products - two minima on the PES\n",
        "e_eq1 = min(energies)\n",
        "e_eq2 = min([x for x in energies if x != e_eq1])\n",
        "\n",
        "idx1 = energies.index(e_eq1)\n",
        "idx2 = energies.index(e_eq2)\n",
        "\n",
        "# Transition state is the local maximum between reactant and products\n",
        "idx_min = min(idx1, idx2)\n",
        "idx_max = max(idx1, idx2)\n",
        "\n",
        "# Transition state energy\n",
        "energy_ts = max(energies[idx_min:idx_max])\n",
        "\n",
        "# Activation energy\n",
        "activation_energy = energy_ts - e_eq1\n",
        "\n",
        "print(f\"The activation energy is {activation_energy:.6f} Hartrees\")"
      ]
    },
    {
      "cell_type": "markdown",
      "metadata": {
        "id": "PwaonsX3NwM1"
      },
      "source": [
        "We can interpret this result by comparing the scale of the activation with the scale of thermal flucuations and the chemical accuracy standard (comparable with experimental accuracy).\n",
        "\n",
        "We can also explore the sensivity of our estimate of the reaction relative to the accuracy of our computation."
      ]
    },
    {
      "cell_type": "code",
      "execution_count": 41,
      "metadata": {
        "id": "uGP1YXib77jc"
      },
      "outputs": [
        {
          "name": "stdout",
          "output_type": "stream",
          "text": [
            "Energy scale of thermal fluctuations 0.0009501 Ha\n",
            "Chemical accuracy: 0.0016 Ha\n",
            "Ratio of reaction rates is 0.05531\n"
          ]
        }
      ],
      "source": [
        "#Boltzmann constant in atomic units (Hartee/Kelvin)\n",
        "k_B=3.167e-6\n",
        "\n",
        "#Temperature in Kelvin\n",
        "T = 300\n",
        "\n",
        "#Energy scale of thermal fluctuations\n",
        "print(\"Energy scale of thermal fluctuations\", k_B*T, \"Ha\")\n",
        "\n",
        "#Standard of scale of experimental accuracy\n",
        "print(\"Chemical accuracy: 0.0016 Ha\")\n",
        "\n",
        "#What happens to our estimate of the reaction rate if we underestimate the activation energy by 10%?\n",
        "ratio = pnp.exp(-activation_energy / (k_B * T))/pnp.exp(-(activation_energy*0.90) / (k_B * T))\n",
        "\n",
        "print(f\"Ratio of reaction rates is {ratio:.5f}\")"
      ]
    },
    {
      "cell_type": "markdown",
      "metadata": {
        "id": "_R-P6TrrRfnj"
      },
      "source": [
        "# Introduction to Datasets (time-permitting)"
      ]
    },
    {
      "cell_type": "markdown",
      "metadata": {
        "id": "HSACmMF1m1Q7"
      },
      "source": [
        "A quantum dataset is a collection of data that describes quantum systems and their evolution. We refer to such data features as quantum data, which in the context of quantum programming, can be realized as the input arguments and outputs of a quantum function that defines a quantum system. (Source: [pennylane.ai/datasets](https://pennylane.ai/datasets/what-is-a-quantum-dataset))\n",
        "\n",
        "Easy access to large data is integral to quantum computing research – especially as quantum algorithms and hardware scale. PennyLane Datasets make it easier to browse available datasets, and find exactly what you are looking for."
      ]
    },
    {
      "cell_type": "code",
      "execution_count": 2,
      "metadata": {
        "id": "_7i2DJJisxyB"
      },
      "outputs": [],
      "source": [
        "# Load dataset for H3\n"
      ]
    },
    {
      "cell_type": "code",
      "execution_count": 1,
      "metadata": {
        "id": "HnWPVBB-e55F"
      },
      "outputs": [],
      "source": [
        "#Get the Hamiltonian of the H3 molecule\n"
      ]
    },
    {
      "cell_type": "code",
      "execution_count": 3,
      "metadata": {
        "id": "7lj6ajD_vDAt"
      },
      "outputs": [],
      "source": [
        "# Get the number of qubits needed for simulating the molecule and the length of Hamiltonian\n"
      ]
    },
    {
      "cell_type": "code",
      "execution_count": 4,
      "metadata": {
        "id": "ho7oXqpIvOxq"
      },
      "outputs": [],
      "source": [
        "# VQE with datasets\n",
        "\n",
        "\n"
      ]
    },
    {
      "cell_type": "code",
      "execution_count": 5,
      "metadata": {
        "id": "dlyhQ6Cf9tiU"
      },
      "outputs": [],
      "source": [
        "# Get the ground state energy estimate\n"
      ]
    },
    {
      "cell_type": "code",
      "execution_count": 6,
      "metadata": {
        "id": "C_o6Amc6AHb3"
      },
      "outputs": [],
      "source": [
        "# Look at the gates used in the ansatz of the variational circuit\n"
      ]
    },
    {
      "cell_type": "code",
      "execution_count": 7,
      "metadata": {
        "id": "xC49IuAqAgEZ"
      },
      "outputs": [],
      "source": [
        "# Access the parameters of the gates used in the ansatz\n"
      ]
    },
    {
      "cell_type": "markdown",
      "metadata": {
        "id": "LcXAmfC7p0WA"
      },
      "source": [
        "# Example 2: LiH molecule"
      ]
    },
    {
      "cell_type": "markdown",
      "metadata": {
        "id": "eJOKg_hRp4ej"
      },
      "source": [
        "Use the datasets to find the ground state energy for the LiH molecule for a bond length of 1.57 Å."
      ]
    },
    {
      "cell_type": "code",
      "execution_count": 7,
      "metadata": {
        "id": "TTiEgQXrh9U4"
      },
      "outputs": [],
      "source": []
    },
    {
      "cell_type": "markdown",
      "metadata": {
        "id": "rUjhm0zWwfaj"
      },
      "source": [
        "# Copyright\n",
        "Copyright 2024 Xanadu Quantum Technologies Inc.\n",
        "\n",
        "Please do not distribute this material outside of your organization.\n",
        "\n",
        "Unless required by applicable law or agreed to in writing, software distributed\n",
        "under this training is distributed on an \"AS IS\" BASIS, WITHOUT WARRANTIES OR\n",
        "CONDITIONS OF ANY KIND, either express or implied."
      ]
    }
  ],
  "metadata": {
    "colab": {
      "provenance": []
    },
    "kernelspec": {
      "display_name": "base",
      "language": "python",
      "name": "python3"
    },
    "language_info": {
      "codemirror_mode": {
        "name": "ipython",
        "version": 3
      },
      "file_extension": ".py",
      "mimetype": "text/x-python",
      "name": "python",
      "nbconvert_exporter": "python",
      "pygments_lexer": "ipython3",
      "version": "3.12.4"
    }
  },
  "nbformat": 4,
  "nbformat_minor": 0
}
