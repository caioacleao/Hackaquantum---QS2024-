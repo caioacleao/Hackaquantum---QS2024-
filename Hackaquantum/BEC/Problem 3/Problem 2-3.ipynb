{
 "cells": [
  {
   "cell_type": "markdown",
   "metadata": {},
   "source": [
    "# Problem 2-3\n",
    "\n",
    "<img src=\"Exercicio 2-3-1.png\">\n",
    "<img src=\"Exercicio 2-3-2.png\">\n",
    "<img src=\"Exercicio 2-3-3.png\">\n",
    "<img src=\"Exercicio 2-3-4.png\">\n",
    "<img src=\"Exercicio 2-3-5.png\">"
   ]
  },
  {
   "cell_type": "code",
   "execution_count": 1,
   "metadata": {},
   "outputs": [],
   "source": [
    "# Lib Initialization \n",
    "\n",
    "import numpy as np\n",
    "import matplotlib.pyplot as plt\n",
    "from matplotlib.animation import FuncAnimation\n",
    "import math as m\n"
   ]
  },
  {
   "cell_type": "markdown",
   "metadata": {},
   "source": [
    "# Initial Conditions & Half Step"
   ]
  },
  {
   "cell_type": "code",
   "execution_count": 2,
   "metadata": {},
   "outputs": [],
   "source": [
    "\n",
    "\n",
    "def potential(x):\n",
    "    return 0.5 * x**2\n",
    "\n",
    "\n",
    "def initialconditions(V, R0, deltax, L, timeframe):\n",
    "    # Initialize the spatial grid\n",
    "    x = np.linspace(-L, L, int(2 * L / deltax) + 1)\n",
    "    n_x = len(x)\n",
    "    \n",
    "    # Calculate dx and dx squared\n",
    "    dx = (x[-1] - x[0]) / (n_x - 1)\n",
    "    dx2 = dx ** 2\n",
    "    \n",
    "    # Initialize wavefunction and potential arrays\n",
    "    realPsi = np.zeros(n_x, dtype=np.longdouble)\n",
    "    imagPsi = np.zeros(n_x, dtype=np.longdouble)\n",
    "    potential = np.array([V(xi) for xi in x], dtype=np.longdouble)\n",
    "\n",
    "    # Initialize the wavefunctions using provided functions\n",
    "    for i in range(n_x):\n",
    "        realPsi[i] = R0(x[i])\n",
    "\n",
    "    # Initialize time step size\n",
    "    dt = finddeltat(V, dx, L)\n",
    "    \n",
    "    # Half-step update for the imaginary part (as in the Java code)\n",
    "    # Advances the imaginary part by half a time step\n",
    "    for i in range(1, n_x - 1):\n",
    "        deltaRe = (potential[i] * realPsi[i] \n",
    "                   - 0.5 * (realPsi[i + 1] - 2 * realPsi[i] + realPsi[i - 1]) / dx2)\n",
    "        imagPsi[i] -= deltaRe * dt / 2\n",
    "\n",
    "    # Apply boundary conditions (imagPsi and realPsi set to zero at boundaries)\n",
    "    realPsi[0] = realPsi[-1] = 0.0\n",
    "    imagPsi[0] = imagPsi[-1] = 0.0\n",
    "\n",
    "    # Create time array\n",
    "    t = np.arange(0, timeframe + dt, dt)\n",
    "\n",
    "    return realPsi, imagPsi, x, t\n",
    "\n",
    "def finddeltat(V,deltax,L):\n",
    "    #in this specific potential(the harmonic trap) as V always increases for modulus(x), its biggest value is given by V(L)\n",
    "    #As the harmonic trap is always positive, the lower bound is 0 \n",
    "    upperbounddt = 1/((V(L)/2) + (1/deltax**2))\n",
    "    deltat = round(upperbounddt/2,4)\n",
    "    return deltat\n",
    "\n",
    "def step(realPsi, imagPsi, potential, dx2, dt,x):\n",
    "    n = len(imagPsi)\n",
    "    # Copy arrays to avoid overwriting values needed for computations\n",
    "    realPsi_old = realPsi.copy()\n",
    "    imagPsi_old = imagPsi.copy()\n",
    "\n",
    "    # Update realPsi using imagPsi_old\n",
    "    for i in range(1, n - 1):\n",
    "        imH = potential(x[i]) * imagPsi_old[i] - 0.5 * (imagPsi_old[i + 1] - 2 * imagPsi_old[i] + imagPsi_old[i - 1]) / dx2\n",
    "        realPsi[i] += imH * dt\n",
    "\n",
    "    # Apply boundary conditions to realPsi\n",
    "    realPsi[0] = 0.0\n",
    "    realPsi[-1] = 0.0\n",
    "\n",
    "    # Update imagPsi using updated realPsi\n",
    "    for i in range(1, n - 1):\n",
    "        reH = potential(x[i]) * realPsi[i] - 0.5 * (realPsi[i + 1] - 2 * realPsi[i] + realPsi[i - 1]) / dx2\n",
    "        imagPsi[i] -= reH * dt\n",
    "\n",
    "    # Apply boundary conditions to imagPsi\n",
    "    imagPsi[0] = 0.0\n",
    "    imagPsi[-1] = 0.0\n",
    "\n",
    "    return realPsi, imagPsi\n",
    "\n",
    "def visscheralgorithm(potential, R0, deltax, L, timeframe):\n",
    "    x = np.arange(-L, L + deltax, deltax)\n",
    "    n_x = x.size\n",
    "    dx2 = deltax ** 2\n",
    "\n",
    "\n",
    "    # Compute time step size\n",
    "    dt = finddeltat(potential, deltax, L)\n",
    "    n_t = int(timeframe / dt) + 1  # Ensure the total time is covered\n",
    "    t = np.linspace(0, timeframe, n_t)\n",
    "\n",
    "    # Initialize wavefunction arrays\n",
    "    realPsi = R0(x)\n",
    "    imagPsi = np.zeros_like(realPsi)\n",
    "\n",
    "    # Arrays to store wavefunction over time\n",
    "    R = np.zeros((n_t, n_x))\n",
    "    I = np.zeros((n_t, n_x))\n",
    "\n",
    "    # Store initial conditions\n",
    "    R[0, :] = realPsi\n",
    "    I[0, :] = imagPsi\n",
    "\n",
    "    # Time-stepping loop\n",
    "    for j in range(1, n_t):\n",
    "        realPsi, imagPsi = step(realPsi, imagPsi, potential, dx2, dt,x)\n",
    "        R[j, :] = realPsi\n",
    "        I[j, :] = imagPsi\n",
    "\n",
    "    # Transpose R and I to match shape (n_x, n_t)\n",
    "    R = R.T\n",
    "    I = I.T\n",
    "\n",
    "    return x, t, R, I,dt\n",
    "\n",
    "\n"
   ]
  },
  {
   "cell_type": "markdown",
   "metadata": {},
   "source": [
    "# a) Consider the initial state:\n",
    "\n",
    "$\\psi(x,0) = (\\frac{1}{4})^{1/4} e^{-x^2 /2}$\n",
    "\n",
    "What happens? Why?"
   ]
  },
  {
   "cell_type": "code",
   "execution_count": 3,
   "metadata": {},
   "outputs": [
    {
     "name": "stdout",
     "output_type": "stream",
     "text": [
      "0.0021\n"
     ]
    },
    {
     "data": {
      "text/plain": [
       "np.float64(0.571611907812558)"
      ]
     },
     "execution_count": 3,
     "metadata": {},
     "output_type": "execute_result"
    }
   ],
   "source": [
    "# In this case\n",
    "\n",
    "\n",
    "def initialstatea(x):\n",
    "    return ((1/np.pi)**(1/4))*np.exp(-(x**2)/2)\n",
    "\n",
    "\n",
    "\n",
    "x,t,R,I,deltat = visscheralgorithm(potential,initialstatea,0.3,30,10)\n",
    " # Calculate probability density\n",
    "P_A = np.zeros_like(R)\n",
    "for i in range(R.shape[0]-1): \n",
    "    for j in range(R.shape[1]-2):\n",
    "        P_A[i,j] = (R[i,j]**2)+ I[i,j]*I[i,j+1] \n",
    "print(deltat)\n",
    "P_A.max()\n"
   ]
  },
  {
   "cell_type": "markdown",
   "metadata": {},
   "source": [
    "## GIF Generation"
   ]
  },
  {
   "cell_type": "code",
   "execution_count": 5,
   "metadata": {},
   "outputs": [
    {
     "data": {
      "image/png": "[encoded data removed]",
      "text/plain": [
       "<Figure size 640x480 with 1 Axes>"
      ]
     },
     "metadata": {},
     "output_type": "display_data"
    }
   ],
   "source": [
    "fig, ax = plt.subplots()\n",
    "\n",
    "skipsize = 20  # Set your desired skip size here\n",
    "\n",
    "def animate(i):\n",
    "    ax.clear()\n",
    "    # i is the actual frame index after skipping\n",
    "    ax.plot(x, P_A[:, i], color='blue')\n",
    "    # Set plot limits\n",
    "    ax.set_xlim(x[0], x[-1])\n",
    "    ax.set_ylim(0, 1)\n",
    "    ax.set_xlabel('x')\n",
    "    ax.set_ylabel('Probability Density P(x, t)')\n",
    "    ax.set_title(f'Time t = {t[i]:.3f}')\n",
    "    ax.grid(True)\n",
    "\n",
    "# Create a list of frame indices, selecting every 'skipsize' frame\n",
    "frame_indices = range(0, len(t), skipsize)\n",
    "\n",
    "# Adjust the interval to maintain the total animation duration\n",
    "original_interval = 50  # Original interval in milliseconds\n",
    "adjusted_interval = original_interval * skipsize\n",
    "\n",
    "# Create the animation object\n",
    "anim = FuncAnimation(\n",
    "    fig,\n",
    "    animate,\n",
    "    frames=frame_indices,   # Use the list of skipped frames\n",
    "    interval=adjusted_interval,  # Adjust interval accordingly\n",
    "    repeat=False\n",
    ")\n",
    "\n",
    "# Save the animation as a GIF\n",
    "anim.save('probability_density_evolution_a.gif', writer='pillow', fps=20)"
   ]
  },
  {
   "cell_type": "markdown",
   "metadata": {},
   "source": [
    "## Teorethical Question\n",
    "As we may see, the \"wave packet\", solution of the GPE, is oscillating a few and slowly through the time evolution, as we could expect since"
   ]
  },
  {
   "cell_type": "markdown",
   "metadata": {},
   "source": [
    "# b)"
   ]
  },
  {
   "cell_type": "code",
   "execution_count": 6,
   "metadata": {},
   "outputs": [
    {
     "name": "stdout",
     "output_type": "stream",
     "text": [
      "0.0021\n"
     ]
    },
    {
     "data": {
      "text/plain": [
       "np.float64(0.7978909966688543)"
      ]
     },
     "execution_count": 6,
     "metadata": {},
     "output_type": "execute_result"
    }
   ],
   "source": [
    "def initialstateb(x):\n",
    "    return ((2/np.pi)**(1/4))*np.exp(-(x**2))\n",
    "\n",
    "x,t,R,I,deltat = visscheralgorithm(potential,initialstateb,0.3,30,10)\n",
    " # Calculate probability density\n",
    "P_B = np.zeros_like(R)\n",
    "for i in range(R.shape[0]-1): \n",
    "    for j in range(R.shape[1]-2):\n",
    "        P_B[i,j] = (R[i,j]**2)+ I[i,j]*I[i,j+1] \n",
    "print(deltat)\n",
    "P_B.max()"
   ]
  },
  {
   "cell_type": "markdown",
   "metadata": {},
   "source": [
    "## GIF Generation"
   ]
  },
  {
   "cell_type": "code",
   "execution_count": 7,
   "metadata": {},
   "outputs": [
    {
     "data": {
      "image/png": "[encoded data removed]",
      "text/plain": [
       "<Figure size 640x480 with 1 Axes>"
      ]
     },
     "metadata": {},
     "output_type": "display_data"
    }
   ],
   "source": [
    "fig, ax = plt.subplots()\n",
    "\n",
    "skipsize = 20\n",
    "\n",
    "def animate(i):\n",
    "    ax.clear()\n",
    "    ax.plot(x, P_B[:, i], color='blue')\n",
    "    ax.set_xlim(x[0], x[-1])\n",
    "    ax.set_ylim(0, 1)\n",
    "    ax.set_xlabel('x')\n",
    "    ax.set_ylabel('Probability Density P(x, t)')\n",
    "    ax.set_title(f'Time t = {t[i]:.3f}')\n",
    "    ax.grid(True)\n",
    "\n",
    "#list of frame indices\n",
    "frame_indices = range(0, len(t), skipsize)\n",
    "\n",
    "\n",
    "original_interval = 20  # Original interval in milliseconds\n",
    "adjusted_interval = original_interval * skipsize\n",
    "\n",
    "# animation object\n",
    "anim = FuncAnimation(\n",
    "    fig,\n",
    "    animate,\n",
    "    frames=frame_indices,   # list of skipped frames\n",
    "    interval=adjusted_interval,  \n",
    "    repeat=False\n",
    ")\n",
    "\n",
    "# Save the animation as a GIF\n",
    "anim.save('probability_density_evolution_b.gif', writer='pillow', fps=20)"
   ]
  },
  {
   "cell_type": "markdown",
   "metadata": {},
   "source": [
    "## Teorethical Question\n",
    "As we may see, the \"wave packet\", solution of the GPE, is oscillating through the time evolution, as we could expect since"
   ]
  },
  {
   "cell_type": "markdown",
   "metadata": {},
   "source": [
    "# c)"
   ]
  },
  {
   "cell_type": "code",
   "execution_count": 8,
   "metadata": {},
   "outputs": [],
   "source": [
    "\n",
    "\n",
    "def I0(x):\n",
    "    return 0.0  # Initial imaginary part is zero\n",
    "\n",
    "# Calculate maximum stable time step size for linear part\n",
    "def finddeltat(V, deltax, L):\n",
    "    # Calculate the maximum potential value within the domain\n",
    "    x_max = L\n",
    "    V_max = V(x_max)\n",
    "    # Compute the stability limit for the time step(we will use 90%)\n",
    "    deltat = 0.9 / ((V_max / 2) + (1 / deltax**2))\n",
    "    return deltat\n",
    "\n",
    "# Function to perform a single step update with the nonlinear interaction term\n",
    "def step(realPsi, imagPsi, potential, dx2, dt, U0):\n",
    "    n = len(realPsi)\n",
    "\n",
    "    # Copy arrays to avoid overwriting values needed for computations\n",
    "    realPsi_old = realPsi.copy()\n",
    "    imagPsi_old = imagPsi.copy()\n",
    "\n",
    "    # Update realPsi using imagPsi_old with nonlinear interaction\n",
    "    for i in range(1, n - 1):\n",
    "        # Compute Hamiltonian operator acting on imagPsi (nonlinear)\n",
    "        laplacian_imagPsi = (imagPsi_old[i + 1] - 2 * imagPsi_old[i] + imagPsi_old[i - 1]) / dx2\n",
    "        interaction_term = U0 * (realPsi_old[i] ** 2 + imagPsi_old[i] ** 2)\n",
    "        H_imag = -0.5 * laplacian_imagPsi + potential[i] + interaction_term\n",
    "\n",
    "        # Update realPsi with nonlinear interaction\n",
    "        denominator = 1 - dt * U0 * realPsi_old[i] * imagPsi_old[i]\n",
    "        realPsi[i] = (realPsi_old[i] + dt * H_imag * imagPsi_old[i]) / denominator\n",
    "\n",
    "    # Apply boundary conditions to realPsi\n",
    "    realPsi[0] = 0.0\n",
    "    realPsi[-1] = 0.0\n",
    "\n",
    "    # Update imagPsi using updated realPsi with nonlinear interaction\n",
    "    for i in range(1, n - 1):\n",
    "        # Compute Hamiltonian operator acting on realPsi (nonlinear)\n",
    "        laplacian_realPsi = (realPsi[i + 1] - 2 * realPsi[i] + realPsi[i - 1]) / dx2\n",
    "        interaction_term = U0 * (realPsi[i] ** 2 + imagPsi[i] ** 2)\n",
    "        H_real = -0.5 * laplacian_realPsi + potential[i] + interaction_term\n",
    "\n",
    "        # Update imagPsi with nonlinear interaction\n",
    "        denominator = 1 + dt * U0 * imagPsi_old[i] * realPsi_old[i]\n",
    "        imagPsi[i] = (imagPsi_old[i] - dt * H_real * realPsi[i]) / denominator\n",
    "\n",
    "    # Apply boundary conditions to imagPsi\n",
    "    imagPsi[0] = 0.0\n",
    "    imagPsi[-1] = 0.0\n",
    "\n",
    "    return realPsi, imagPsi\n",
    "\n",
    "# Function to implement the Visscher algorithm with the nonlinear term\n",
    "def visscheralgorithmnonlinear(V, R0, I0, deltax, L, timeframe, U0):\n",
    "    x = np.linspace(-L, L, int(2 * L / deltax) + 1)\n",
    "    n_x = len(x)\n",
    "    dx2 = deltax ** 2\n",
    "\n",
    "    # Initialize potential\n",
    "    potential_values = np.array([V(xi) for xi in x], dtype=np.longdouble) \n",
    "\n",
    "    # Compute time step size\n",
    "    dt = finddeltat(V, deltax, L)\n",
    "    n_t = int(timeframe / dt) + 1  # Ensure the total time is covered\n",
    "    t = np.linspace(0, timeframe, n_t)\n",
    "\n",
    "    # Initialize wavefunction arrays\n",
    "    realPsi = np.array([R0(xi) for xi in x], dtype=np.longdouble) # np.sqrt(10)is due to the fact that R0 is not normalized in -L to L\n",
    "    imagPsi = np.array([I0(xi) for xi in x], dtype=np.longdouble)\n",
    "\n",
    "    # Arrays to store wavefunction over time\n",
    "    R = np.zeros((n_t, n_x))\n",
    "    I = np.zeros((n_t, n_x))\n",
    "\n",
    "    # Store initial conditions\n",
    "    R[0, :] = realPsi\n",
    "    I[0, :] = imagPsi\n",
    "\n",
    "    # Time-stepping loop\n",
    "    for j in range(1, n_t):\n",
    "        realPsi, imagPsi = step(realPsi, imagPsi, potential_values, dx2, dt, U0)\n",
    "        R[j, :] = realPsi\n",
    "        I[j, :] = imagPsi\n",
    "\n",
    "    # Transpose R and I to match shape (n_x, n_t)\n",
    "    R = R.T\n",
    "    I = I.T\n",
    "\n",
    "    return x, t, R, I,dt\n",
    "\n",
    "\n",
    "\n",
    "\n"
   ]
  },
  {
   "cell_type": "code",
   "execution_count": 9,
   "metadata": {},
   "outputs": [
    {
     "name": "stdout",
     "output_type": "stream",
     "text": [
      "0.036000000000000004\n"
     ]
    },
    {
     "data": {
      "text/plain": [
       "np.longdouble('0.9999999999999998')"
      ]
     },
     "execution_count": 9,
     "metadata": {},
     "output_type": "execute_result"
    }
   ],
   "source": [
    "\n",
    "# Potential function (V=0 for this specific problem)\n",
    "def potential(x):\n",
    "    return 0.0\n",
    "def initialstatecimag(x):\n",
    "    return 0.0\n",
    "\n",
    "# Nonlinear parameter U0\n",
    "U0 = -2\n",
    "# Define the initial wavefunction components\n",
    "def initialstatec(x):\n",
    "    return 1.0 /( (np.sqrt(2) * np.cosh(x))*np.sqrt(5))\n",
    "\n",
    "x,t,R,I,deltat = visscheralgorithmnonlinear(potential,initialstatec,initialstatecimag,0.2,100,4,U0)\n",
    " # Calculate probability density\n",
    "P_C = np.zeros_like(R,dtype = np.longdouble)\n",
    "for i in range(R.shape[0]-1): \n",
    "    for j in range(R.shape[1]-2):\n",
    "        P_C[i,j] = ((R[i,j]**2)+ I[i,j]*I[i,j+1] )\n",
    "print(deltat)\n",
    "\n",
    "P_C[:,0].sum()"
   ]
  },
  {
   "cell_type": "markdown",
   "metadata": {},
   "source": [
    "## GIF Generation"
   ]
  },
  {
   "cell_type": "code",
   "execution_count": 10,
   "metadata": {},
   "outputs": [
    {
     "data": {
      "image/png": "[encoded data removed]",
      "text/plain": [
       "<Figure size 640x480 with 1 Axes>"
      ]
     },
     "metadata": {},
     "output_type": "display_data"
    }
   ],
   "source": [
    "fig, ax = plt.subplots()\n",
    "\n",
    "skipsize = 1\n",
    "\n",
    "def animate(i):\n",
    "    ax.clear()\n",
    "    ax.plot(x, P_C[:, i], color='blue')\n",
    "    ax.set_xlim(x[0], x[-1])\n",
    "    ax.set_ylim(0, 1)\n",
    "    ax.set_xlabel('x')\n",
    "    ax.set_ylabel('Probability Density P(x, t)')\n",
    "    ax.set_title(f'Time t = {t[i]:.3f}')\n",
    "    ax.grid(True)\n",
    "\n",
    "#list of frame indices\n",
    "frame_indices = range(0, len(t), skipsize)\n",
    "\n",
    "\n",
    "original_interval = 50  # Original interval in milliseconds\n",
    "adjusted_interval = original_interval * skipsize\n",
    "\n",
    "# animation object\n",
    "anim = FuncAnimation(\n",
    "    fig,\n",
    "    animate,\n",
    "    frames=frame_indices,   # list of skipped frames\n",
    "    interval=adjusted_interval,  \n",
    "    repeat=False\n",
    ")\n",
    "\n",
    "# Save the animation as a GIF\n",
    "anim.save('probability_density_evolution_c.gif', writer='pillow', fps=20)"
   ]
  },
  {
   "cell_type": "markdown",
   "metadata": {},
   "source": [
    "## Teorethical Question\n",
    "As we may see, the \"wave packet\", solution of the GPE, is decaying through the time evolution, as we could expect since there are interactions between the function and the enviroment"
   ]
  }
 ],
 "metadata": {
  "kernelspec": {
   "display_name": "qiskit",
   "language": "python",
   "name": "python3"
  },
  "language_info": {
   "codemirror_mode": {
    "name": "ipython",
    "version": 3
   },
   "file_extension": ".py",
   "mimetype": "text/x-python",
   "name": "python",
   "nbconvert_exporter": "python",
   "pygments_lexer": "ipython3",
   "version": "3.12.7"
  }
 },
 "nbformat": 4,
 "nbformat_minor": 2
}
