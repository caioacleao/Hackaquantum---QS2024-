{
 "cells": [
  {
   "cell_type": "markdown",
   "metadata": {},
   "source": [
    "# Problem 2-3\n",
    "\n",
    "<img src=\"Exercicio 2-3-1.png\">\n",
    "<img src=\"Exercicio 2-3-2.png\">\n",
    "<img src=\"Exercicio 2-3-3.png\">\n",
    "<img src=\"Exercicio 2-3-4.png\">\n",
    "<img src=\"Exercicio 2-3-5.png\">"
   ]
  },
  {
   "cell_type": "code",
   "execution_count": 138,
   "metadata": {},
   "outputs": [],
   "source": [
    "# Lib Initialization \n",
    "\n",
    "import numpy as np\n",
    "import matplotlib.pyplot as plt\n",
    "from matplotlib.animation import FuncAnimation\n",
    "import math as m\n"
   ]
  },
  {
   "cell_type": "markdown",
   "metadata": {},
   "source": [
    "# Initial Conditions & Half Step"
   ]
  },
  {
   "cell_type": "code",
   "execution_count": 286,
   "metadata": {},
   "outputs": [],
   "source": [
    "\n",
    "\n",
    "def potential(x):\n",
    "    return 0.5 * x**2\n",
    "\n",
    "\n",
    "def initialconditions(V, R0, deltax, deltat, L, timeframe):\n",
    "    x = np.arange(-L, L + deltax, deltax)  \n",
    "    t = np.arange(0, timeframe + deltat, deltat)\n",
    "    n_x = x.size\n",
    "    n_t = t.size\n",
    "    R = np.zeros((n_x, n_t),dtype=np.longdouble)\n",
    "    I = np.zeros((n_x, n_t),dtype = np.longdouble)\n",
    "    for i in range(n_x-1):\n",
    "        R[i, 0] = R0(x[i])\n",
    "    # Apply zero boundary conditions at t=0\n",
    "    R[0, 0] = 0.0      # At x = -L\n",
    "    R[-1, 0] = 0.0     # At x = L\n",
    "    I[:, 0] = 0.0      # Assuming I is zero at t=0\n",
    "    # Compute I at t = deltat/2 using the initial R\n",
    "    for i in range(1,n_x-1):\n",
    "        HF =   -0.5 *((R[i+1, 0] - 2*R[i, 0] + R[i-1, 0])/(deltax**2) ) + V(x[i]) * R[i, 0] \n",
    "        I[i, 1] = I[i-1,1] + (deltat / 2) * HF\n",
    "    # Apply zero boundary conditions at t = deltat/2\n",
    "    I[0, 1] = 0.0\n",
    "    I[-1, 1] = 0.0\n",
    "    return R, I, x, t \n",
    "\n",
    "def finddeltat(V,deltax,L):\n",
    "    #in this specific potential(the harmonic trap) as V always increases for modulus(x), its biggest value is given by V(L)\n",
    "    #As the harmonic trap is always positive, the lower bound is 0 \n",
    "    upperbounddt = 1/((V(L)/2) + (1/deltax**2))\n",
    "    deltat = upperbounddt\n",
    "    return deltat\n",
    "\n",
    "def visscheralgorithm(V, R0, deltax, L, timeframe):\n",
    "    #Obtain a deltat that ensures stability.\n",
    "    deltat = finddeltat(V,deltax,L)\n",
    "    R, I, x, t = initialconditions(V, R0, deltax, deltat, L, timeframe)\n",
    "    n_x, n_t = R.shape\n",
    "    P = np.zeros((n_x, n_t))\n",
    "\n",
    "    for j in range(2, n_t-1):\n",
    "        for i in range(2, n_x - 1):\n",
    "            HF_I = -0.5 * (I[i+1, j-1] - 2*I[i, j-1] + I[i-1, j-1]) / (deltax**2) + V(x[i]) * I[i, j-1]\n",
    "            HF_R = -0.5 * (R[i+1, j-1] - 2*R[i, j-1] + R[i-1, j-1]) / (deltax**2) + V(x[i]) * R[i, j-1]\n",
    "            # Update R and I at current time step\n",
    "            R[i, j] = R[i, j - 1] + deltat * HF_I\n",
    "            I[i, j] = I[i, j - 1] - deltat * HF_R\n",
    "            # Calculate probability density \n",
    "            P[i,j] = (R[i,j]**2)+ I[i,j-1]*I[i,j]\n",
    "        # Apply zero boundary conditions at x = -L and x = L\n",
    "        R[0, j] = 0.0\n",
    "        R[-1, j] = 0.0\n",
    "        I[0, j] = 0.0\n",
    "        I[-1, j] = 0.0\n",
    "\n",
    "    return P, x, t,deltat\n",
    "\n"
   ]
  },
  {
   "cell_type": "markdown",
   "metadata": {},
   "source": [
    "## a) Consider the initial state:\n",
    "\n",
    "$\\psi(x,0) = (\\frac{1}{4})^{1/4} e^{-x^2 /2}$\n",
    "\n",
    "What happens? Why?"
   ]
  },
  {
   "cell_type": "code",
   "execution_count": 287,
   "metadata": {},
   "outputs": [
    {
     "name": "stdout",
     "output_type": "stream",
     "text": [
      "0.014845360824742268\n"
     ]
    }
   ],
   "source": [
    "# In this case\n",
    "\n",
    "def initialstatea(x):\n",
    "    return ((1/m.pi)**(1/4))*m.exp(-(x**2)/2)\n",
    "\n",
    "#V,R0,deltax,L, timeframe\n",
    "\n",
    "P,x,t,deltat = visscheralgorithm(potential,initialstatea,0.3,15,3)\n",
    "print(deltat)\n"
   ]
  },
  {
   "cell_type": "code",
   "execution_count": 284,
   "metadata": {},
   "outputs": [
    {
     "data": {
      "image/png": "[encoded data removed]",
      "text/plain": [
       "<Figure size 640x480 with 1 Axes>"
      ]
     },
     "metadata": {},
     "output_type": "display_data"
    }
   ],
   "source": [
    "fig, ax = plt.subplots()\n",
    "\n",
    "skipsize = 10  # Set your desired skip size here\n",
    "\n",
    "def animate(i):\n",
    "    ax.clear()\n",
    "    # i is the actual frame index after skipping\n",
    "    ax.plot(x, P[:, i], color='blue')\n",
    "    # Set plot limits\n",
    "    ax.set_xlim(x[0], x[-1])\n",
    "    ax.set_ylim(0, 15)\n",
    "    ax.set_xlabel('x')\n",
    "    ax.set_ylabel('Probability Density P(x, t)')\n",
    "    ax.set_title(f'Time t = {t[i]:.3f}')\n",
    "    ax.grid(True)\n",
    "\n",
    "# Create a list of frame indices, selecting every 'skipsize' frame\n",
    "frame_indices = range(0, len(t), skipsize)\n",
    "\n",
    "# Adjust the interval to maintain the total animation duration\n",
    "original_interval = 50  # Original interval in milliseconds\n",
    "adjusted_interval = original_interval * skipsize\n",
    "\n",
    "# Create the animation object\n",
    "anim = FuncAnimation(\n",
    "    fig,\n",
    "    animate,\n",
    "    frames=frame_indices,   # Use the list of skipped frames\n",
    "    interval=adjusted_interval,  # Adjust interval accordingly\n",
    "    repeat=False\n",
    ")\n",
    "\n",
    "# Save the animation as a GIF\n",
    "anim.save('probability_density_evolution_a.gif', writer='pillow', fps=20)"
   ]
  },
  {
   "cell_type": "code",
   "execution_count": 288,
   "metadata": {},
   "outputs": [
    {
     "data": {
      "image/png": "[encoded data removed]",
      "text/plain": [
       "<Figure size 640x480 with 1 Axes>"
      ]
     },
     "metadata": {},
     "output_type": "display_data"
    }
   ],
   "source": [
    "plt.plot(x,P[:,0])\n",
    "plt.show()"
   ]
  },
  {
   "cell_type": "markdown",
   "metadata": {},
   "source": [
    "## b)"
   ]
  },
  {
   "cell_type": "code",
   "execution_count": 48,
   "metadata": {},
   "outputs": [
    {
     "ename": "ValueError",
     "evalue": "too many values to unpack (expected 3)",
     "output_type": "error",
     "traceback": [
      "\u001b[0;31m---------------------------------------------------------------------------\u001b[0m",
      "\u001b[0;31mValueError\u001b[0m                                Traceback (most recent call last)",
      "Cell \u001b[0;32mIn[76], line 4\u001b[0m\n\u001b[1;32m      1\u001b[0m \u001b[38;5;28;01mdef\u001b[39;00m \u001b[38;5;21minitialstateb\u001b[39m(x):\n\u001b[1;32m      2\u001b[0m     \u001b[38;5;28;01mreturn\u001b[39;00m ((\u001b[38;5;241m2\u001b[39m\u001b[38;5;241m/\u001b[39mnp\u001b[38;5;241m.\u001b[39mpi)\u001b[38;5;241m*\u001b[39m\u001b[38;5;241m*\u001b[39m(\u001b[38;5;241m1\u001b[39m\u001b[38;5;241m/\u001b[39m\u001b[38;5;241m4\u001b[39m))\u001b[38;5;241m*\u001b[39mnp\u001b[38;5;241m.\u001b[39mexp(\u001b[38;5;241m-\u001b[39m(x\u001b[38;5;241m*\u001b[39m\u001b[38;5;241m*\u001b[39m\u001b[38;5;241m2\u001b[39m))\n\u001b[0;32m----> 4\u001b[0m P,x,t \u001b[38;5;241m=\u001b[39m visscheralgorithm(potential,initialstatea,\u001b[38;5;241m0.5\u001b[39m,\u001b[38;5;241m20\u001b[39m,\u001b[38;5;241m5\u001b[39m)\n",
      "\u001b[0;31mValueError\u001b[0m: too many values to unpack (expected 3)"
     ]
    }
   ],
   "source": [
    "def initialstateb(x):\n",
    "    return ((2/np.pi)**(1/4))*np.exp(-(x**2))\n",
    "\n",
    "P,x,t = visscheralgorithm(potential,initialstatea,0.5,20,5)"
   ]
  },
  {
   "cell_type": "code",
   "execution_count": 226,
   "metadata": {},
   "outputs": [
    {
     "data": {
      "image/png": "[encoded data removed]",
      "text/plain": [
       "<Figure size 640x480 with 1 Axes>"
      ]
     },
     "metadata": {},
     "output_type": "display_data"
    }
   ],
   "source": [
    "fig, ax = plt.subplots()\n",
    "\n",
    "skipsize = 20  # Set your desired skip size here\n",
    "\n",
    "def animate(i):\n",
    "    ax.clear()\n",
    "    # i is the actual frame index after skipping\n",
    "    ax.plot(x, P[:,i], color='blue')\n",
    "    # Set plot limits\n",
    "    ax.set_xlim(x[0], x[-1])\n",
    "    ax.set_ylim(0, P.max() * 1.1)\n",
    "    ax.set_xlabel('x')\n",
    "    ax.set_ylabel('Probability Density P(x, t)')\n",
    "    ax.set_title(f'Time t = {t[i]:.3f}')\n",
    "    ax.grid(True)\n",
    "\n",
    "# Create a list of frame indices, selecting every 'skipsize' frame\n",
    "frame_indices = range(0, len(t), skipsize)\n",
    "\n",
    "# Adjust the interval to maintain the total animation duration\n",
    "original_interval = 50  # Original interval in milliseconds\n",
    "adjusted_interval = original_interval * skipsize\n",
    "\n",
    "# Create the animation object\n",
    "anim = FuncAnimation(\n",
    "    fig,\n",
    "    animate,\n",
    "    frames=frame_indices,   # Use the list of skipped frames\n",
    "    interval=adjusted_interval,  # Adjust interval accordingly\n",
    "    repeat=False\n",
    ")\n",
    "\n",
    "# Save the animation as a GIF\n",
    "anim.save('probability_density_evolution_b.gif', writer='pillow', fps=20)\n"
   ]
  },
  {
   "cell_type": "code",
   "execution_count": null,
   "metadata": {},
   "outputs": [],
   "source": []
  }
 ],
 "metadata": {
  "kernelspec": {
   "display_name": "base",
   "language": "python",
   "name": "python3"
  },
  "language_info": {
   "codemirror_mode": {
    "name": "ipython",
    "version": 3
   },
   "file_extension": ".py",
   "mimetype": "text/x-python",
   "name": "python",
   "nbconvert_exporter": "python",
   "pygments_lexer": "ipython3",
   "version": "3.12.4"
  }
 },
 "nbformat": 4,
 "nbformat_minor": 2
}
