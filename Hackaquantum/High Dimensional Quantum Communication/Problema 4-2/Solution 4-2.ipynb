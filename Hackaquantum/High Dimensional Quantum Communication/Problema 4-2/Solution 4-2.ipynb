{
 "cells": [
  {
   "cell_type": "markdown",
   "metadata": {},
   "source": [
    "# 4-2 Solution:\n",
    "\n",
    "### Solution: \n",
    "\n",
    "\n",
    "1. Following the $H_{int}$:\n",
    "$$\n",
    "\\sum_{n,m=0}^{\\infty}\\bra{x,y} \\ket{u_{nm}} \\bra{u_{nm}} \\ket{x',y'}\n",
    "$$\n",
    "2. As the summation term is only included inside of the $\\bra{x,y}$ and $\\ket{x',y'}$, we can put:\n",
    "$$\n",
    "\\bra{x,y}\\sum_{n,m}^{\\infty} \\ket{u_{nm}}\\bra{u_{nm}} \\ket{x',y'} \n",
    "$$\n",
    "3. As $u_{nm}$ forms a basis set, it must obey the **Completeness** relation, which implies that:\n",
    "\n",
    "$$\n",
    "\\sum_{n,m}P_{n,m} = \\mathbb{1}\n",
    "$$\n",
    "Where $P_{n,m}$ are the projections in said basis. \n",
    "\n",
    "In this case, we have \n",
    "$$\n",
    "P_{n,m} = \\ket{u_{nm}} \\bra{u_{nm}} = \\mathbb{1} \n",
    "$$\n",
    "\n",
    "Plugging this back we obtain:\n",
    "$$\n",
    "\\bra{x,y}\\mathbb{1} \\ket{x',y'} = \\bra{x} \\ket{x'} \\bra{y} \\ket{y'} \n",
    "$$\n",
    "4. As the position basis is **Orthonormal**, by definition $\\bra{x}\\ket{x'}= \\delta(x-x')$, which results in:\n",
    "\n",
    "$$\n",
    "\\bra{x} \\ket{x'} \\bra{y} \\ket{y'} = \\delta(x-x') \\delta(y-y')\n",
    "$$\n",
    "\n",
    "Which in term completes the proof."
   ]
  }
 ],
 "metadata": {
  "language_info": {
   "name": "python"
  }
 },
 "nbformat": 4,
 "nbformat_minor": 2
}
