{
 "cells": [
  {
   "cell_type": "markdown",
   "metadata": {},
   "source": [
    "\n",
    "<img src=\"Exercicio 1.1.png\">"
   ]
  },
  {
   "cell_type": "code",
   "execution_count": null,
   "metadata": {},
   "outputs": [],
   "source": [
    "\n",
    "def cost_fn(param):\n",
    "    circuit_H2_VQE(param, wires = range(qubits))\n",
    "\n",
    "    return qml.expval(H)\n",
    "#C: we declared the H earlier.\n",
    "\n",
    "#Draw circuit\n",
    "qml.draw_mpl(cost_fn)(0.2)"
   ]
  },
  {
   "cell_type": "code",
   "execution_count": null,
   "metadata": {},
   "outputs": [],
   "source": [
    "\n",
    "#C: Following pennylane's ordering.\n",
    "dev = qml.device(\"default.qubit\", wires = qubits)\n",
    "\n",
    "#Create QNode associated with cost function\n",
    "#C: as were trying to minimize the energy, the expectation value of the hamiltonian is the value we're trying to minimize\n",
    "@qml.qnode(dev)"
   ]
  }
 ],
 "metadata": {
  "language_info": {
   "name": "python"
  }
 },
 "nbformat": 4,
 "nbformat_minor": 2
}
