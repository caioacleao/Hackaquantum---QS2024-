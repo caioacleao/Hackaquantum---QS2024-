{
  "nbformat": 4,
  "nbformat_minor": 0,
  "metadata": {
    "colab": {
      "provenance": []
    },
    "kernelspec": {
      "name": "python3",
      "display_name": "Python 3"
    },
    "language_info": {
      "name": "python"
    }
  },
  "cells": [
    {
      "cell_type": "markdown",
      "source": [
        "**Introduction to Applications of Quantum Computing to Quan-\n",
        "tum Chemistry**\n",
        "\n",
        "1.   **Obtaining expectation value of a Hamiltonian.**\n",
        "\n",
        "Consider the following Hamiltonian:\n",
        "$$\n",
        "H = \\frac{1}{3}\\sum_{i<j}X_iX_j-\\sum_{n=0}^{n-1}Z_i\n",
        "$$\n",
        "where $n$ is the number of qubits (or wires, in Pennylane language), $X_i$ and $Z_i$ are the Pauli-X and Pauli-Z operators acting on the i-th qubit, respectively, and $\\sum_{i<j}$ denotes a sum over all pairs $(i, j)$ where $i < j$. For example, for n = 3, the pairs that contribute to\n",
        "the sum over $i < j$ are $(0, 1)$,$(0, 2)$ and $(1, 2)$.\n",
        "\n",
        "Note that indexing starts from 0. You must implement in Pennylane a function that simulates a quantum circuit where the qubits start in the state $|0⟩$ and a Hadamard gate H is applied to all of them, producing a final state $|\\psi⟩$.\n",
        "\n",
        "The function must receive the number of qubits and return the expectation value of K for $|\\psi⟩$."
      ],
      "metadata": {
        "id": "I1kIHQMlAGB1"
      }
    },
    {
      "cell_type": "code",
      "source": [
        "# Exercise 1\n",
        "\n",
        "def get_expectation_value():\n",
        "  # Installing Pennyline\n",
        "  !pip install pennylane\n",
        "\n",
        "  # Importing the liberies\n",
        "  import pennylane as qml\n",
        "  from pennylane import numpy as pnp\n",
        "\n",
        "  # Requsting the number of qubits\n",
        "\n",
        "  n_qubits = int(input(\"Enter the number of qubits that you desire: \"))\n",
        "\n",
        "  coefs = [1/3, -1]\n",
        "  ops = [sum([qml.PauliX(i)@qml.PauliX(j) for i in range(n_qubits) for j in range(n_qubits) if i < j]), sum([qml.PauliZ(i) for i in range(n_qubits - 1)])]\n",
        "\n",
        "  # Hamiltonian\n",
        "\n",
        "  H = qml.Hamiltonian(coefs, ops)\n",
        "\n",
        "  # Printing the Hamltonian\n",
        "\n",
        "  print(f\"\\n\\n\\nThe Hamiltonian is given by: {H}\\n\\n\\n\")\n",
        "\n",
        "  # Creating the circuit\n",
        "\n",
        "  dev = qml.device(\"default.qubit\", wires=n_qubits)\n",
        "  @qml.qnode(dev)\n",
        "  def circuit():\n",
        "    # Hadamard gate on all qubits\n",
        "    for i in range(n_qubits):\n",
        "      qml.Hadamard(wires=i)\n",
        "    return qml.expval(H)\n",
        "\n",
        "  # Printing out the expectet value of the Hamiltonian:\n",
        "\n",
        "  print(f\"\\n\\n\\nThe expectation value of the Hamiltonian is: {circuit()}\\n\\n\\n\")\n",
        "\n",
        "  # Drawing the circuit\n",
        "\n",
        "  qml.draw_mpl(circuit)();\n",
        "\n",
        "  return ''"
      ],
      "metadata": {
        "id": "87c8z2Pms5ke"
      },
      "execution_count": null,
      "outputs": []
    },
    {
      "cell_type": "code",
      "source": [
        "# Answer question 1\n",
        "\n",
        "print(get_expectation_value())"
      ],
      "metadata": {
        "colab": {
          "base_uri": "https://localhost:8080/"
        },
        "id": "f4o0blT4y8Jx",
        "outputId": "53d1095b-3ff0-4d4b-c630-2332c41285c6"
      },
      "execution_count": null,
      "outputs": [
        {
          "output_type": "stream",
          "name": "stdout",
          "text": [
            "Requirement already satisfied: pennylane in /usr/local/lib/python3.10/dist-packages (0.38.0)\n",
            "Requirement already satisfied: numpy<2.0 in /usr/local/lib/python3.10/dist-packages (from pennylane) (1.26.4)\n",
            "Requirement already satisfied: scipy in /usr/local/lib/python3.10/dist-packages (from pennylane) (1.13.1)\n",
            "Requirement already satisfied: networkx in /usr/local/lib/python3.10/dist-packages (from pennylane) (3.3)\n",
            "Requirement already satisfied: rustworkx>=0.14.0 in /usr/local/lib/python3.10/dist-packages (from pennylane) (0.15.1)\n",
            "Requirement already satisfied: autograd in /usr/local/lib/python3.10/dist-packages (from pennylane) (1.7.0)\n",
            "Requirement already satisfied: toml in /usr/local/lib/python3.10/dist-packages (from pennylane) (0.10.2)\n",
            "Requirement already satisfied: appdirs in /usr/local/lib/python3.10/dist-packages (from pennylane) (1.4.4)\n",
            "Requirement already satisfied: autoray>=0.6.11 in /usr/local/lib/python3.10/dist-packages (from pennylane) (0.6.12)\n",
            "Requirement already satisfied: cachetools in /usr/local/lib/python3.10/dist-packages (from pennylane) (5.5.0)\n",
            "Requirement already satisfied: pennylane-lightning>=0.38 in /usr/local/lib/python3.10/dist-packages (from pennylane) (0.38.0)\n",
            "Requirement already satisfied: requests in /usr/local/lib/python3.10/dist-packages (from pennylane) (2.32.3)\n",
            "Requirement already satisfied: typing-extensions in /usr/local/lib/python3.10/dist-packages (from pennylane) (4.12.2)\n",
            "Requirement already satisfied: packaging in /usr/local/lib/python3.10/dist-packages (from pennylane) (24.1)\n",
            "Requirement already satisfied: charset-normalizer<4,>=2 in /usr/local/lib/python3.10/dist-packages (from requests->pennylane) (3.3.2)\n",
            "Requirement already satisfied: idna<4,>=2.5 in /usr/local/lib/python3.10/dist-packages (from requests->pennylane) (3.10)\n",
            "Requirement already satisfied: urllib3<3,>=1.21.1 in /usr/local/lib/python3.10/dist-packages (from requests->pennylane) (2.2.3)\n",
            "Requirement already satisfied: certifi>=2017.4.17 in /usr/local/lib/python3.10/dist-packages (from requests->pennylane) (2024.8.30)\n"
          ]
        }
      ]
    }
  ]
}