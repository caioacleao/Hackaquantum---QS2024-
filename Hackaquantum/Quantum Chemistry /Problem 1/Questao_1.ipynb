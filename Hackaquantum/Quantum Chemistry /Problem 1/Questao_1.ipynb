{
  "nbformat": 4,
  "nbformat_minor": 0,
  "metadata": {
    "colab": {
      "provenance": []
    },
    "kernelspec": {
      "name": "python3",
      "display_name": "Python 3"
    },
    "language_info": {
      "name": "python"
    }
  },
  "cells": [
    {
      "cell_type": "code",
      "execution_count": null,
      "metadata": {
        "id": "YJPp9PskDDbV"
      },
      "outputs": [],
      "source": [
        "def get_expectation_value(Nqubits):\n",
        "    # Importing Libraries\n",
        "    import pennylane as qml\n",
        "    from pennylane import numpy as pnp\n",
        "\n",
        "    # Function to get from the user the number of qubits.\n",
        "\n",
        "    #C: Following pennylane's ordering.\n",
        "    dev = qml.device(\"default.qubit\", wires = Nqubits)\n",
        "\n",
        "    @qml.qnode(dev)\n",
        "    def walsh_hadamard_circuit():\n",
        "        # Apply the Hadamard gate to each qubit\n",
        "        for i in range(Nqubits):\n",
        "            qml.Hadamard(wires=i)\n",
        "        # Return the state vector of the circuit\n",
        "        return qml.state()\n",
        "\n",
        "    # Execute the quantum circuit\n",
        "    state = walsh_hadamard_circuit()\n",
        "\n",
        "    # Display the resulting state vector\n",
        "    print(\"State vector after Walsh-Hadamard transform:\")\n",
        "    print(state)\n",
        "\n",
        "    #C; So in fact we're generating the Walsh Hadamard Transform(applying H into every qubit).\n",
        "\n",
        "    coeffs = []\n",
        "    pauli_opps = []\n",
        "\n",
        "    # The Nqubits first terms will be corresponding to the pauli z part in the hamiltonian\n",
        "\n",
        "    for i in range(Nqubits):\n",
        "        coeffs.append(-1)\n",
        "        pauli_opps.append(qml.PauliZ(wires = i))\n",
        "\n",
        "    # We now need to apply the other part of the hamiltonian\n",
        "\n",
        "    # We now need to apply the other part of the hamiltonian\n",
        "\n",
        "\n",
        "    for i in range(Nqubits):\n",
        "        for j in range(Nqubits):\n",
        "            coeffs.append(1/6)\n",
        "            pauli_opps.append(qml.PauliX(wires=i) @ qml.PauliX(wires=j))\n",
        "\n",
        "    # Testing if it works properly\n",
        "    print(coeffs)\n",
        "    print(pauli_opps)\n",
        "\n",
        "    # qml.Hamiltonian implements each of the gates with the corresponding coeficient.\n",
        "    H = qml.Hamiltonian(coeffs, pauli_opps)\n",
        "    print(H)\n",
        "    @qml.qnode(dev)\n",
        "    def expval():\n",
        "        # Apply the Hadamard gate to each qubit\n",
        "        for i in range(Nqubits):\n",
        "            qml.Hadamard(wires=i)\n",
        "        # Return the state vector of the circuit\n",
        "        return qml.expval(H)\n",
        "\n",
        "\n",
        "    print(\"Expectation value of H:\")\n",
        "    return expval()"
      ]
    },
    {
      "cell_type": "code",
      "source": [
        "num_qubits=int(input(\"How many qubits are there?\"))\n",
        "print(get_expectation_value(num_qubits))"
      ],
      "metadata": {
        "id": "wQWFWAK3DIkD"
      },
      "execution_count": null,
      "outputs": []
    }
  ]
}