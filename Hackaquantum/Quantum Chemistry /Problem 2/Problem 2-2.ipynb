{
  "cells": [
    {
      "cell_type": "markdown",
      "metadata": {
        "id": "WgxeEgR18Ahh"
      },
      "source": [
        "**Introduction to Applications of Quantum Computing to Quan-\n",
        "tum Chemistry**\n",
        "\n",
        "2.   **Ground state energy for molecule and spin system with Variational\n",
        "Quantum Algorithms and Trotterization.**\n",
        "\n",
        "Variational Quantum Algorithms (VQAs) are a class of hybrid quantum-classical algorithms. These algorithms leverage quantum circuits to accelerate computations while utilizing a classical optimizer to iteratively adjust the parameters of the circuit, seeking to minimize a cost function and ultimately find the correct solution.\n",
        "\n",
        "(a) The calculation of molecular properties is crucial in scientific and technological fields, such as chemistry and the pharmaceutical industry. In particular, the ground state energy of a molecule provides valuable insights into its properties, including stability and reactivity.\n",
        "\n",
        "You must implement a function in Pennylane that simulates the Variational Quantum Eigensolver (VQE). This function should take as input a six-entry array of floating-point numbers, representing the x, y and z coordinates of two hydrogen atoms. The first three entries correspond to the coordinates of the first hydrogen atom, and the remaining three entries represent the coordinates of the second hydrogen atom. The function should return the ground state energy of the molecule. Also explain why the Pauli-Z is necessary in Jordan-Wigner transformation.\n",
        "\n",
        "**Observation: Explicitly define the STO-3G basis function set, multiplicity=1, charge=0 and Jordan-Wigner mapping in the code.**\n",
        "\n",
        "(b) Consider a spin chain consisting of N spin-$\\frac{1}{2}$\n",
        "particles, where each spin can point either in the positive or negative z-direction. Additionally, an external magnetic field is applied to the system.\n",
        "\n",
        "This quantum system is described by the Transverse Ising Hamiltonian. For a closed spin chain with a transverse magnetic field of intensity h, the Hamiltonian is:\n",
        "\n",
        "$$ H = -\\sum_{i=1}^N Z_i \\otimes Z_{i+1} -h\\sum_{n=1}^NX_i$$\n",
        "where $Z_i$ and $X_i$ are the Pauli-Z and Pauli-X operators acting on the $i-th$ spin site, respectively. In a closed chain, the site $N + 1$ is identified with the first site.\n",
        "\n",
        "You must implement a variational quantum algorithm in Pennylane that, for a given value of the transverse magnetic field h, computes the ground state energy of the spin chain with N = 4 sites. The magnetic field intensity h should be passed as an input to the algorithm.\n",
        "\n",
        "(c) The total energy of a quantum system is represented by operator $H$. We know\n",
        "that an initial quantum state $|\\psi⟩$ evolves over time through the action of the evolution operator U, defined as\n"
      ]
    },
    {
      "cell_type": "code",
      "execution_count": null,
      "metadata": {},
      "outputs": [],
      "source": [
        "!pip install pennylane"
      ]
    },
    {
      "cell_type": "code",
      "execution_count": 1,
      "metadata": {
        "colab": {
          "base_uri": "https://localhost:8080/"
        },
        "id": "cvAQDv4OdsVO",
        "outputId": "0668fec8-9af3-4953-be14-35bb1e338fbd"
      },
      "outputs": [],
      "source": [
        "\n",
        "\n",
        "import pennylane as qml\n",
        "from pennylane import numpy as pnp\n",
        "from random import choice"
      ]
    },
    {
      "cell_type": "code",
      "execution_count": 2,
      "metadata": {
        "id": "6sALdLEAoWNS"
      },
      "outputs": [],
      "source": [
        "# Question (a)\n",
        "\n",
        "def get_the_ground_state():\n",
        "  # Collect the coordinates\n",
        "  coord_1 = list(map(float, input('Enter the coordinates of the first H as x y z: ').split()))\n",
        "  coord_2 = list(map(float, input('Enter the coordinates of the second H as x y z: ').split()))\n",
        "\n",
        "  # Define the symbols and the coordinates\n",
        "  symbols = [\"H\", \"H\"]\n",
        "  coordinates = pnp.array([coord_1, coord_2])\n",
        "\n",
        "  # Create the molecule\n",
        "  molecule = qml.qchem.Molecule(symbols, coordinates, charge = 0, mult = 1, basis_name='sto-3g') # Creating the molecule with the exercise\n",
        "  H, qubits = qml.qchem.molecular_hamiltonian(molecule, mapping='jordan_wigner')\n",
        "\n",
        "  # Print out the Hamiltonian just to check if it's all right\n",
        "  print(f\"Hamiltonian: {H}\")\n",
        "\n",
        "  # Connecting  with the device\n",
        "  dev = qml.device(\"default.qubit\", wires = qubits)\n",
        "\n",
        "  # Creating the cost_function\n",
        "  @qml.qnode(dev)\n",
        "  def cost_function(params): \n",
        "    qml.BasisState(pnp.array([1, 1, 0, 0]), wires = range(qubits)) # Creating the basis state\n",
        "    qml.DoubleExcitation(params, wires = [0, 1, 2, 3]) # Why i have to use Double Exctations?\n",
        "\n",
        "    return qml.expval(H)\n",
        "\n",
        "  # Drawing the circuit\n",
        "  qml.draw_mpl(cost_function)(1); #What is this pnp.array?\n",
        "\n",
        "  # Choose an optimizer\n",
        "  opt = qml.GradientDescentOptimizer(stepsize = 0.4)\n",
        "\n",
        "  # Initial guess parameters\n",
        "  theta = pnp.array(0.20885146442480412, requires_grad=True)\n",
        "\n",
        "  # Programing the optimzation routine\n",
        "  energy = [cost_function(theta)] # Store the values of the cost function\n",
        "  angle = [theta] # Store the values of the circuit parameter\n",
        "\n",
        "  max_iterations = 40 # Maximum number of calls to the optimizer\n",
        "  conv_tol = 1e-06 # Convergence threshold to stop our optimization procedure\n",
        "\n",
        "  for n in range(max_iterations):\n",
        "    theta,prev_energy=opt.step_and_cost(cost_function,theta)\n",
        "    energy.append(cost_function(theta))\n",
        "    angle.append(theta)\n",
        "    conv=pnp.abs(energy[-1]-prev_energy)\n",
        "\n",
        "    if conv<=conv_tol:\n",
        "        break\n",
        "\n",
        "  # Print out the value of the ground state energy\n",
        "  print(\"\\n\" f\"Final value of the ground-state energy = {energy[-1]:.8f} Ha\")\n",
        "\n",
        "  return ''"
      ]
    },
    {
      "cell_type": "markdown",
      "metadata": {},
      "source": [
        "# Part B"
      ]
    },
    {
      "cell_type": "code",
      "execution_count": 8,
      "metadata": {
        "colab": {
          "base_uri": "https://localhost:8080/"
        },
        "id": "6aFxNrIopoUs",
        "outputId": "859ba049-bd42-48c9-eab5-d0dcbe6b3885"
      },
      "outputs": [],
      "source": [
        "h = float(input(\"Enter the extenal magnetic field: \"))"
      ]
    },
    {
      "cell_type": "markdown",
      "metadata": {},
      "source": [
        "## Creating the Hamiltonian"
      ]
    },
    {
      "cell_type": "code",
      "execution_count": 9,
      "metadata": {
        "colab": {
          "base_uri": "https://localhost:8080/",
          "height": 997
        },
        "id": "RGWUuuIpqDDp",
        "outputId": "1763ac43-f0e0-4bd0-d53d-37c5b7e54f89"
      },
      "outputs": [
        {
          "name": "stdout",
          "output_type": "stream",
          "text": [
            "\n",
            "\n",
            "\n",
            "The Hamiltonian is given by: -1 * (Z(0) @ Z(1) + Z(1) @ Z(2) + Z(2) @ Z(3) + Z(3) @ Z(0)) + -0.5 * (X(0) + X(1) + X(2) + X(3))\n",
            "\n",
            "\n",
            "\n"
          ]
        }
      ],
      "source": [
        "# Creating the Hamiltonian\n",
        "\n",
        "coefs = [-1, -h]\n",
        "ops = [sum(qml.PauliZ(i) @ qml.PauliZ(i+1) if i !=3 else qml.PauliZ(i)@ qml.PauliZ(0) for i in range(4)) , sum(qml.PauliX(i) for i in range(4))]\n",
        "\n",
        "# Number of Qubits \n",
        "N = 4 \n",
        "\n",
        "# Hamiltonian\n",
        "H = qml.Hamiltonian(coefs, ops)\n",
        "\n",
        "# Printing the Hamltonian\n",
        "print(f\"\\n\\n\\nThe Hamiltonian is given by: {H}\\n\\n\\n\")\n"
      ]
    },
    {
      "cell_type": "markdown",
      "metadata": {},
      "source": [
        "# Choosing the Ansatz(VERIFICAR COM CALMA ISSO)\n",
        "\n",
        "We must find which ansatz is capable of satisfying the problem.\n",
        "\n",
        "*For example:*\n",
        "Is the doubleexcitation function capable of correcly solving this problem?\n",
        "\n",
        "Notice that \n",
        "$$ H = -\\sum_{i=1}^N Z_i \\otimes Z_{i+1} -h\\sum_{n=1}^NX_i$$\n",
        "\n",
        "This is invariant to rotations in $SO(2)$ involving $\\{|0011 \\rangle,|1100 \\rangle \\}$. \n",
        "\n",
        "So in this case, we need to perform rotations in $SO(2)$ involving the first and third qubits(or equivalently, as this is a closed chain) the second or fourth qubit.\n",
        "\n",
        "## Single Excitation\n",
        "\n",
        "As was shown before, we can implement an SingleExcitation in qubits 1 and 3 to change the value of our H(as to minimize it)\n"
      ]
    },
    {
      "cell_type": "code",
      "execution_count": 25,
      "metadata": {},
      "outputs": [
        {
          "data": {
            "text/plain": [
              "(<Figure size 500x500 with 1 Axes>, <Axes: >)"
            ]
          },
          "execution_count": 25,
          "metadata": {},
          "output_type": "execute_result"
        },
        {
          "data": {
            "image/png": "[encoded data removed]",
            "text/plain": [
              "<Figure size 500x500 with 1 Axes>"
            ]
          },
          "metadata": {},
          "output_type": "display_data"
        }
      ],
      "source": [
        "# Creating the circuit\n",
        "dev = qml.device(\"default.qubit\", wires=N)\n",
        "\n",
        "\n",
        "@qml.qnode(dev)\n",
        "def cost_fn(params):\n",
        "  qml.BasisState(pnp.array([0,0, 0, 0]), wires = [i for i in range(N)])\n",
        "  qml.SingleExcitation(params, wires = [0,2])\n",
        "\n",
        "  return qml.expval(H)\n",
        "\n",
        "# Drawing the circuit\n",
        "qml.draw_mpl(cost_fn)(1)\n"
      ]
    },
    {
      "cell_type": "code",
      "execution_count": 24,
      "metadata": {},
      "outputs": [
        {
          "name": "stdout",
          "output_type": "stream",
          "text": [
            "Step = 0,  Energy = -4.00000000 Ha\n",
            "\n",
            "Final value of the ground-state energy = -4.00000000 Ha\n"
          ]
        }
      ],
      "source": [
        "# Choose an optimizer\n",
        "opt = qml.GradientDescentOptimizer(stepsize = 0.4)\n",
        "\n",
        "# Initial guess parameters\n",
        "thetazero = 0.3\n",
        "theta = pnp.array(thetazero, requires_grad=True)\n",
        "\n",
        "# Programing the optimzation routine\n",
        "energy = [cost_fn(theta)] # Store the values of the cost function\n",
        "angle = [theta] # Store the values of the circuit parameter\n",
        "\n",
        "max_iterations = 40 # Maximum number of calls to the optimizer\n",
        "conv_tol = 1e-06 # Convergence threshold to stop our optimization procedure\n",
        "\n",
        "for n in range(max_iterations):\n",
        "    theta, prev_energy = opt.step_and_cost(cost_fn, theta)\n",
        "\n",
        "    energy.append(cost_fn(theta))\n",
        "    angle.append(theta)\n",
        "\n",
        "    conv = pnp.abs(energy[-1] - prev_energy)\n",
        "\n",
        "    if n % 2 == 0:\n",
        "        print(f\"Step = {n},  Energy = {energy[-1]:.8f} Ha\")\n",
        "\n",
        "    if conv <= conv_tol:\n",
        "        break\n",
        "\n",
        "\n",
        "# Print out the value of the ground state energy\n",
        "print(\"\\n\" f\"Final value of the ground-state energy = {energy[-1]:.8f} Ha\")"
      ]
    },
    {
      "cell_type": "code",
      "execution_count": 27,
      "metadata": {},
      "outputs": [
        {
          "data": {
            "text/plain": [
              "tensor(-4., requires_grad=True)"
            ]
          },
          "execution_count": 27,
          "metadata": {},
          "output_type": "execute_result"
        }
      ],
      "source": [
        "cost_fn(0.7)"
      ]
    },
    {
      "cell_type": "code",
      "execution_count": null,
      "metadata": {},
      "outputs": [],
      "source": [
        "H"
      ]
    },
    {
      "cell_type": "code",
      "execution_count": null,
      "metadata": {},
      "outputs": [],
      "source": []
    }
  ],
  "metadata": {
    "colab": {
      "provenance": []
    },
    "kernelspec": {
      "display_name": "base",
      "language": "python",
      "name": "python3"
    },
    "language_info": {
      "codemirror_mode": {
        "name": "ipython",
        "version": 3
      },
      "file_extension": ".py",
      "mimetype": "text/x-python",
      "name": "python",
      "nbconvert_exporter": "python",
      "pygments_lexer": "ipython3",
      "version": "3.12.4"
    }
  },
  "nbformat": 4,
  "nbformat_minor": 0
}
