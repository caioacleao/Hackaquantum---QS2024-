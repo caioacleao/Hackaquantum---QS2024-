{
 "cells": [
  {
   "cell_type": "markdown",
   "metadata": {},
   "source": [
    "\n",
    "<img src=\"Exercicio 1.1.png\">"
   ]
  },
  {
   "cell_type": "code",
   "execution_count": 17,
   "metadata": {},
   "outputs": [],
   "source": [
    "# Importing Libraries\n",
    "import pennylane as qml\n",
    "from pennylane import numpy as pnp\n"
   ]
  },
  {
   "cell_type": "code",
   "execution_count": 18,
   "metadata": {},
   "outputs": [],
   "source": [
    "# Function to get from the user the number of qubits.\n",
    "\n",
    "def num_qubits():\n",
    "    num = int(input(\"How many qubits are there?\"))\n",
    "    return num\n",
    "\n",
    "Nqubits = num_qubits()\n",
    "\n",
    "\n",
    "#C: Following pennylane's ordering.\n",
    "dev = qml.device(\"default.qubit\", wires = Nqubits)\n",
    "\n"
   ]
  },
  {
   "cell_type": "markdown",
   "metadata": {},
   "source": [
    "# Walsh Hadamard Implementation\n",
    "\n",
    "Now we need to implement for each qubit the hadamard gate. This can be easily done by:"
   ]
  },
  {
   "cell_type": "code",
   "execution_count": 19,
   "metadata": {},
   "outputs": [
    {
     "name": "stdout",
     "output_type": "stream",
     "text": [
      "State vector after Walsh-Hadamard transform:\n",
      "[0.1767767+0.j 0.1767767+0.j 0.1767767+0.j 0.1767767+0.j 0.1767767+0.j\n",
      " 0.1767767+0.j 0.1767767+0.j 0.1767767+0.j 0.1767767+0.j 0.1767767+0.j\n",
      " 0.1767767+0.j 0.1767767+0.j 0.1767767+0.j 0.1767767+0.j 0.1767767+0.j\n",
      " 0.1767767+0.j 0.1767767+0.j 0.1767767+0.j 0.1767767+0.j 0.1767767+0.j\n",
      " 0.1767767+0.j 0.1767767+0.j 0.1767767+0.j 0.1767767+0.j 0.1767767+0.j\n",
      " 0.1767767+0.j 0.1767767+0.j 0.1767767+0.j 0.1767767+0.j 0.1767767+0.j\n",
      " 0.1767767+0.j 0.1767767+0.j]\n"
     ]
    }
   ],
   "source": [
    "@qml.qnode(dev)\n",
    "def walsh_hadamard_circuit():\n",
    "    # Apply the Hadamard gate to each qubit\n",
    "    for i in range(Nqubits):\n",
    "        qml.Hadamard(wires=i)\n",
    "    # Return the state vector of the circuit\n",
    "    return qml.state()\n",
    "\n",
    "# Execute the quantum circuit\n",
    "state = walsh_hadamard_circuit()\n",
    "\n",
    "# Display the resulting state vector\n",
    "print(\"State vector after Walsh-Hadamard transform:\")\n",
    "print(state)\n",
    "\n",
    "#C; So in fact we're generating the Walsh Hadamard Transform(applying H into every qubit)."
   ]
  },
  {
   "cell_type": "markdown",
   "metadata": {},
   "source": [
    "# Defining the Hamiltonian\n",
    "Now we need to implement correctly the Hamiltonian in question."
   ]
  },
  {
   "cell_type": "code",
   "execution_count": 20,
   "metadata": {},
   "outputs": [],
   "source": [
    "coeffs = []\n",
    "pauli_opps = []\n",
    "\n",
    "# The Nqubits first terms will be corresponding to the pauli z part in the hamiltonian\n",
    "\n",
    "for i in range(Nqubits):\n",
    "    coeffs.append(-1)\n",
    "    pauli_opps.append(qml.PauliZ(wires = i))\n",
    "\n",
    "# We now need to apply the other part of the hamiltonian"
   ]
  },
  {
   "cell_type": "markdown",
   "metadata": {},
   "source": [
    "## Summing the Cross X Pauli\n",
    "\n",
    "\n",
    "$$\n",
    "C = \\sum^{N_{qubits}}_{i<j}X_{i}X_{j}\n",
    "$$\n",
    "For example, for $N_{qubits}=3$:\n",
    "$$\n",
    "C = \\underbrace{X_{1}X_{0}}_{\\text{1 Term}}+\\underbrace{X_{2}X_{0}+X_{2}X_{1}}_{\\text{2 Terms}}+\\underbrace{X_{3}X_{0}+X_{3}X_{1}+X_{3}X_{2}}_{\\text{3 Terms}}\n",
    "$$\n",
    "\n",
    "So in general, we can remove the limitation of $i<j$ and add a $\\frac{1}{2}$ into the summation, resulting in:\n",
    "$$\n",
    "C = \\frac{1}{2}\\sum^{N_{qubits}}_{i,j}X_{i}X_{j}\n",
    "$$"
   ]
  },
  {
   "cell_type": "code",
   "execution_count": 21,
   "metadata": {},
   "outputs": [],
   "source": [
    "# We now need to apply the other part of the hamiltonian\n",
    "\n",
    "\n",
    "for i in range(Nqubits):\n",
    "    for j in range(Nqubits):\n",
    "        coeffs.append(1/6)\n",
    "        pauli_opps.append(qml.PauliX(wires=i) @ qml.PauliX(wires=j))"
   ]
  },
  {
   "cell_type": "code",
   "execution_count": 22,
   "metadata": {},
   "outputs": [
    {
     "name": "stdout",
     "output_type": "stream",
     "text": [
      "[-1, -1, -1, -1, -1, 0.16666666666666666, 0.16666666666666666, 0.16666666666666666, 0.16666666666666666, 0.16666666666666666, 0.16666666666666666, 0.16666666666666666, 0.16666666666666666, 0.16666666666666666, 0.16666666666666666, 0.16666666666666666, 0.16666666666666666, 0.16666666666666666, 0.16666666666666666, 0.16666666666666666, 0.16666666666666666, 0.16666666666666666, 0.16666666666666666, 0.16666666666666666, 0.16666666666666666, 0.16666666666666666, 0.16666666666666666, 0.16666666666666666, 0.16666666666666666, 0.16666666666666666]\n",
      "[Z(0), Z(1), Z(2), Z(3), Z(4), X(0) @ X(0), X(0) @ X(1), X(0) @ X(2), X(0) @ X(3), X(0) @ X(4), X(1) @ X(0), X(1) @ X(1), X(1) @ X(2), X(1) @ X(3), X(1) @ X(4), X(2) @ X(0), X(2) @ X(1), X(2) @ X(2), X(2) @ X(3), X(2) @ X(4), X(3) @ X(0), X(3) @ X(1), X(3) @ X(2), X(3) @ X(3), X(3) @ X(4), X(4) @ X(0), X(4) @ X(1), X(4) @ X(2), X(4) @ X(3), X(4) @ X(4)]\n"
     ]
    }
   ],
   "source": [
    "# Testing if it works properly\n",
    "print(coeffs)\n",
    "print(pauli_opps)"
   ]
  },
  {
   "cell_type": "code",
   "execution_count": 23,
   "metadata": {},
   "outputs": [
    {
     "name": "stdout",
     "output_type": "stream",
     "text": [
      "-1 * Z(0) + -1 * Z(1) + -1 * Z(2) + -1 * Z(3) + -1 * Z(4) + 0.16666666666666666 * (X(0) @ X(0)) + 0.16666666666666666 * (X(0) @ X(1)) + 0.16666666666666666 * (X(0) @ X(2)) + 0.16666666666666666 * (X(0) @ X(3)) + 0.16666666666666666 * (X(0) @ X(4)) + 0.16666666666666666 * (X(1) @ X(0)) + 0.16666666666666666 * (X(1) @ X(1)) + 0.16666666666666666 * (X(1) @ X(2)) + 0.16666666666666666 * (X(1) @ X(3)) + 0.16666666666666666 * (X(1) @ X(4)) + 0.16666666666666666 * (X(2) @ X(0)) + 0.16666666666666666 * (X(2) @ X(1)) + 0.16666666666666666 * (X(2) @ X(2)) + 0.16666666666666666 * (X(2) @ X(3)) + 0.16666666666666666 * (X(2) @ X(4)) + 0.16666666666666666 * (X(3) @ X(0)) + 0.16666666666666666 * (X(3) @ X(1)) + 0.16666666666666666 * (X(3) @ X(2)) + 0.16666666666666666 * (X(3) @ X(3)) + 0.16666666666666666 * (X(3) @ X(4)) + 0.16666666666666666 * (X(4) @ X(0)) + 0.16666666666666666 * (X(4) @ X(1)) + 0.16666666666666666 * (X(4) @ X(2)) + 0.16666666666666666 * (X(4) @ X(3)) + 0.16666666666666666 * (X(4) @ X(4))\n"
     ]
    }
   ],
   "source": [
    "# qml.Hamiltonian implements each of the gates with the corresponding coeficient. \n",
    "H = qml.Hamiltonian(coeffs, pauli_opps)\n",
    "print(H)\n"
   ]
  },
  {
   "cell_type": "markdown",
   "metadata": {},
   "source": [
    "# Calculating the Expectation Value of the Hamiltonian\n",
    "\n",
    "We now need to calculate the expectation value of such hamiltonian. "
   ]
  },
  {
   "cell_type": "markdown",
   "metadata": {},
   "source": [
    "## Initializing the Circuit"
   ]
  },
  {
   "cell_type": "code",
   "execution_count": 24,
   "metadata": {},
   "outputs": [
    {
     "name": "stdout",
     "output_type": "stream",
     "text": [
      "Expectation value of H: 4.1666666666666625\n"
     ]
    },
    {
     "name": "stderr",
     "output_type": "stream",
     "text": [
      "/opt/homebrew/anaconda3/lib/python3.12/site-packages/autoray/autoray.py:81: ComplexWarning: Casting complex values to real discards the imaginary part\n",
      "  return func(*args, **kwargs)\n"
     ]
    }
   ],
   "source": [
    "@qml.qnode(dev)\n",
    "def expval():\n",
    "    # Apply the Hadamard gate to each qubit\n",
    "    for i in range(Nqubits):\n",
    "        qml.Hadamard(wires=i)\n",
    "    # Return the state vector of the circuit\n",
    "    return qml.expval(H)\n",
    "\n",
    "\n",
    "print(\"Expectation value of H:\", expval())"
   ]
  }
 ],
 "metadata": {
  "kernelspec": {
   "display_name": "base",
   "language": "python",
   "name": "python3"
  },
  "language_info": {
   "codemirror_mode": {
    "name": "ipython",
    "version": 3
   },
   "file_extension": ".py",
   "mimetype": "text/x-python",
   "name": "python",
   "nbconvert_exporter": "python",
   "pygments_lexer": "ipython3",
   "version": "3.12.4"
  }
 },
 "nbformat": 4,
 "nbformat_minor": 2
}
